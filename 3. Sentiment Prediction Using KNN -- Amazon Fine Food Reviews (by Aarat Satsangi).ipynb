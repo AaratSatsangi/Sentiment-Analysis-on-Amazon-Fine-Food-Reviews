{
 "cells": [
  {
   "cell_type": "markdown",
   "metadata": {
    "colab_type": "text",
    "id": "grP7WVsuDYMp"
   },
   "source": [
    "# <center><u> Prediction Using K-Nearest Neighbors"
   ]
  },
  {
   "cell_type": "markdown",
   "metadata": {
    "heading_collapsed": true
   },
   "source": [
    "###  Importing Required Packages "
   ]
  },
  {
   "cell_type": "code",
   "execution_count": 1,
   "metadata": {
    "hidden": true
   },
   "outputs": [],
   "source": [
    "import sqlite3\n",
    "import pandas as pd\n",
    "import numpy as np\n",
    "import nltk\n",
    "import string\n",
    "import matplotlib.pyplot as plt\n",
    "import seaborn as sns\n",
    "from bs4 import BeautifulSoup\n",
    "from sklearn.feature_extraction.text import TfidfTransformer\n",
    "from sklearn.feature_extraction.text import TfidfVectorizer\n",
    "\n",
    "from sklearn.feature_extraction.text import CountVectorizer\n",
    "from sklearn.metrics import confusion_matrix\n",
    "from sklearn import metrics\n",
    "from sklearn.metrics import roc_curve, auc\n",
    "from nltk.stem import SnowballStemmer\n",
    "\n",
    "import re\n",
    "from sklearn.manifold import TSNE\n",
    "# Tutorial about Python regular expressions: https://pymotw.com/2/re/\n",
    "import string\n",
    "from nltk.corpus import stopwords\n",
    "from nltk.stem import PorterStemmer\n",
    "from nltk.stem.wordnet import WordNetLemmatizer\n",
    "\n",
    "from gensim.models import Word2Vec\n",
    "from gensim.models import KeyedVectors\n",
    "import pickle\n",
    "\n",
    "from tqdm import tqdm\n",
    "import os"
   ]
  },
  {
   "cell_type": "markdown",
   "metadata": {},
   "source": [
    "### Loading the Final Dataset"
   ]
  },
  {
   "cell_type": "code",
   "execution_count": 2,
   "metadata": {},
   "outputs": [],
   "source": [
    "# os.getcwd()\n",
    "conn = sqlite3.connect('finals_36k.sqlite')\n",
    "final = pd.read_sql_query(\"\"\"\n",
    "SELECT *\n",
    "FROM Reviews\"\"\",conn)\n",
    "# preprocessed_reviews = final.CleanedText.values\n",
    "final = final.drop([\"level_0\" , \"index\"] , axis = 1)\n",
    "# print (type(preprocessed_reviews))\n",
    "# print (len(preprocessed_reviews))"
   ]
  },
  {
   "cell_type": "code",
   "execution_count": 3,
   "metadata": {},
   "outputs": [],
   "source": [
    "from sklearn.neighbors import KNeighborsClassifier"
   ]
  },
  {
   "cell_type": "code",
   "execution_count": 4,
   "metadata": {},
   "outputs": [],
   "source": [
    "X = final\n",
    "# X.shape = (X.shape[0] , 1)\n",
    "Y = final.Score"
   ]
  },
  {
   "cell_type": "code",
   "execution_count": 5,
   "metadata": {},
   "outputs": [
    {
     "name": "stdout",
     "output_type": "stream",
     "text": [
      "Before UnderSampling, the shape of X: (363223, 12)\n",
      "Before UnderSampling, the shape of Y: (363223,) \n",
      "\n",
      "Before UnderSampling, counts of label '1': 306226\n",
      "Before UnderSampling, counts of label '0': 56997\n"
     ]
    }
   ],
   "source": [
    "print('Before UnderSampling, the shape of X: {}'.format(X.shape))\n",
    "print('Before UnderSampling, the shape of Y: {} \\n'.format(Y.shape))\n",
    "\n",
    "print(\"Before UnderSampling, counts of label '1': {}\".format(sum(Y == 1)))\n",
    "print(\"Before UnderSampling, counts of label '0': {}\".format(sum(Y == 0)))"
   ]
  },
  {
   "cell_type": "markdown",
   "metadata": {},
   "source": [
    "### Undersampling the Data"
   ]
  },
  {
   "cell_type": "code",
   "execution_count": 6,
   "metadata": {},
   "outputs": [
    {
     "name": "stdout",
     "output_type": "stream",
     "text": [
      "After UnderSampling, the shape of X: (113994, 12)\n",
      "After UnderSampling, the shape of Y: (113994,) \n",
      "\n",
      "After UnderSampling, counts of label '1': 56997\n",
      "After UnderSampling, counts of label '0': 56997\n"
     ]
    }
   ],
   "source": [
    "from imblearn.under_sampling import RandomUnderSampler\n",
    "rus = RandomUnderSampler()\n",
    "X_new, Y_new = rus.fit_resample(X, Y)\n",
    "\n",
    "print('After UnderSampling, the shape of X: {}'.format(X_new.shape))\n",
    "print('After UnderSampling, the shape of Y: {} \\n'.format(Y_new.shape))\n",
    "\n",
    "print(\"After UnderSampling, counts of label '1': {}\".format(sum(Y_new == 1)))\n",
    "print(\"After UnderSampling, counts of label '0': {}\".format(sum(Y_new == 0)))"
   ]
  },
  {
   "cell_type": "code",
   "execution_count": 7,
   "metadata": {
    "scrolled": true
   },
   "outputs": [
    {
     "data": {
      "text/html": [
       "<div>\n",
       "<style scoped>\n",
       "    .dataframe tbody tr th:only-of-type {\n",
       "        vertical-align: middle;\n",
       "    }\n",
       "\n",
       "    .dataframe tbody tr th {\n",
       "        vertical-align: top;\n",
       "    }\n",
       "\n",
       "    .dataframe thead th {\n",
       "        text-align: right;\n",
       "    }\n",
       "</style>\n",
       "<table border=\"1\" class=\"dataframe\">\n",
       "  <thead>\n",
       "    <tr style=\"text-align: right;\">\n",
       "      <th></th>\n",
       "      <th>Score</th>\n",
       "      <th>Text</th>\n",
       "      <th>CleanedText</th>\n",
       "      <th>Unstemmed_CleanedText</th>\n",
       "    </tr>\n",
       "  </thead>\n",
       "  <tbody>\n",
       "    <tr>\n",
       "      <th>0</th>\n",
       "      <td>0</td>\n",
       "      <td>I, myself always enjoyed this movie, it's very...</td>\n",
       "      <td>i alway enjoy movi funni entertain i not hesit...</td>\n",
       "      <td>i always enjoyed movie funny entertaining i no...</td>\n",
       "    </tr>\n",
       "    <tr>\n",
       "      <th>1</th>\n",
       "      <td>1</td>\n",
       "      <td>This are so much easier to use than the Wilson...</td>\n",
       "      <td>this much easier use wilson past color color v...</td>\n",
       "      <td>this much easier use wilson paste colors color...</td>\n",
       "    </tr>\n",
       "    <tr>\n",
       "      <th>2</th>\n",
       "      <td>1</td>\n",
       "      <td>These are easy to use, they do not make a mess...</td>\n",
       "      <td>these easi use not make mess offer vibrant col...</td>\n",
       "      <td>these easy use not make mess offer vibrant col...</td>\n",
       "    </tr>\n",
       "    <tr>\n",
       "      <th>3</th>\n",
       "      <td>1</td>\n",
       "      <td>This is such a great film, I don't even know h...</td>\n",
       "      <td>this great film i not even know sum first comp...</td>\n",
       "      <td>this great film i not even know sum first comp...</td>\n",
       "    </tr>\n",
       "    <tr>\n",
       "      <th>4</th>\n",
       "      <td>0</td>\n",
       "      <td>Michael Keaton brings no distinguishing charac...</td>\n",
       "      <td>michael keaton bring no distinguish characteri...</td>\n",
       "      <td>michael keaton brings no distinguishing charac...</td>\n",
       "    </tr>\n",
       "    <tr>\n",
       "      <th>...</th>\n",
       "      <td>...</td>\n",
       "      <td>...</td>\n",
       "      <td>...</td>\n",
       "      <td>...</td>\n",
       "    </tr>\n",
       "    <tr>\n",
       "      <th>113989</th>\n",
       "      <td>0</td>\n",
       "      <td>For quite some time, I have been using differe...</td>\n",
       "      <td>for quit time i use differ type hot sauc diffe...</td>\n",
       "      <td>for quite time i using different types hot sau...</td>\n",
       "    </tr>\n",
       "    <tr>\n",
       "      <th>113990</th>\n",
       "      <td>1</td>\n",
       "      <td>Super give me full recovery after training in ...</td>\n",
       "      <td>super give full recoveri train gym nice flavor...</td>\n",
       "      <td>super give full recovery training gym nice fla...</td>\n",
       "    </tr>\n",
       "    <tr>\n",
       "      <th>113991</th>\n",
       "      <td>0</td>\n",
       "      <td>I bought these to use as decorative center pie...</td>\n",
       "      <td>i bought use decor center piec birthday parti ...</td>\n",
       "      <td>i bought use decorative center pieces birthday...</td>\n",
       "    </tr>\n",
       "    <tr>\n",
       "      <th>113992</th>\n",
       "      <td>1</td>\n",
       "      <td>I was introduced to Lagavulin 16 three days ag...</td>\n",
       "      <td>i introduc lagavulin three day ago i no singl ...</td>\n",
       "      <td>i introduced lagavulin three days ago i no sin...</td>\n",
       "    </tr>\n",
       "    <tr>\n",
       "      <th>113993</th>\n",
       "      <td>0</td>\n",
       "      <td>Quite personally, I didn't like it.  For me, i...</td>\n",
       "      <td>quit person i not like for no flavour it tast ...</td>\n",
       "      <td>quite personally i not like for no flavour it ...</td>\n",
       "    </tr>\n",
       "  </tbody>\n",
       "</table>\n",
       "<p>113994 rows × 4 columns</p>\n",
       "</div>"
      ],
      "text/plain": [
       "        Score                                               Text  \\\n",
       "0           0  I, myself always enjoyed this movie, it's very...   \n",
       "1           1  This are so much easier to use than the Wilson...   \n",
       "2           1  These are easy to use, they do not make a mess...   \n",
       "3           1  This is such a great film, I don't even know h...   \n",
       "4           0  Michael Keaton brings no distinguishing charac...   \n",
       "...       ...                                                ...   \n",
       "113989      0  For quite some time, I have been using differe...   \n",
       "113990      1  Super give me full recovery after training in ...   \n",
       "113991      0  I bought these to use as decorative center pie...   \n",
       "113992      1  I was introduced to Lagavulin 16 three days ag...   \n",
       "113993      0  Quite personally, I didn't like it.  For me, i...   \n",
       "\n",
       "                                              CleanedText  \\\n",
       "0       i alway enjoy movi funni entertain i not hesit...   \n",
       "1       this much easier use wilson past color color v...   \n",
       "2       these easi use not make mess offer vibrant col...   \n",
       "3       this great film i not even know sum first comp...   \n",
       "4       michael keaton bring no distinguish characteri...   \n",
       "...                                                   ...   \n",
       "113989  for quit time i use differ type hot sauc diffe...   \n",
       "113990  super give full recoveri train gym nice flavor...   \n",
       "113991  i bought use decor center piec birthday parti ...   \n",
       "113992  i introduc lagavulin three day ago i no singl ...   \n",
       "113993  quit person i not like for no flavour it tast ...   \n",
       "\n",
       "                                    Unstemmed_CleanedText  \n",
       "0       i always enjoyed movie funny entertaining i no...  \n",
       "1       this much easier use wilson paste colors color...  \n",
       "2       these easy use not make mess offer vibrant col...  \n",
       "3       this great film i not even know sum first comp...  \n",
       "4       michael keaton brings no distinguishing charac...  \n",
       "...                                                   ...  \n",
       "113989  for quite time i using different types hot sau...  \n",
       "113990  super give full recovery training gym nice fla...  \n",
       "113991  i bought use decorative center pieces birthday...  \n",
       "113992  i introduced lagavulin three days ago i no sin...  \n",
       "113993  quite personally i not like for no flavour it ...  \n",
       "\n",
       "[113994 rows x 4 columns]"
      ]
     },
     "execution_count": 7,
     "metadata": {},
     "output_type": "execute_result"
    }
   ],
   "source": [
    "X_new = X_new.sort_values(by=\"Time\")\n",
    "X_new = X_new.drop([\"Id\" , \"ProductId\" , \"UserId\" , \"ProfileName\" , \"HelpfulnessNumerator\" , \"HelpfulnessDenominator\" , \"Time\" , \"Summary\" ] , axis = 1).reset_index(drop = True)\n",
    "# pd.X_new.sort_values(by=\"Time\")\n",
    "X_new"
   ]
  },
  {
   "cell_type": "code",
   "execution_count": 8,
   "metadata": {},
   "outputs": [],
   "source": [
    "Y_new = X_new.Score"
   ]
  },
  {
   "cell_type": "code",
   "execution_count": 9,
   "metadata": {},
   "outputs": [
    {
     "name": "stdout",
     "output_type": "stream",
     "text": [
      "[     0      1      2 ... 113986 113990 113992]\n",
      "(60000, 4) (60000,)\n"
     ]
    }
   ],
   "source": [
    "sample_indices = np.sort(np.random.permutation(X_new.shape[0])[:60000])\n",
    "# sample_indices = list(range(0,60000))\n",
    "print(sample_indices)\n",
    "X_new = X_new.take(sample_indices)\n",
    "Y_new = Y_new.take(sample_indices)\n",
    "\n",
    "print(X_new.shape , Y_new.shape)"
   ]
  },
  {
   "cell_type": "code",
   "execution_count": 10,
   "metadata": {},
   "outputs": [],
   "source": [
    "from sklearn.model_selection import train_test_split\n",
    "\n",
    "X_Train , X_Test , Y_Train , Y_Test = train_test_split(X_new , Y_new , test_size = 0.2 , shuffle = False)\n",
    "x_train , x_cv , y_train , y_cv = train_test_split(X_Train , Y_Train , test_size = 0.2 , shuffle = False)"
   ]
  },
  {
   "cell_type": "code",
   "execution_count": 11,
   "metadata": {
    "scrolled": false
   },
   "outputs": [
    {
     "name": "stdout",
     "output_type": "stream",
     "text": [
      "X shape ::  (48000, 4) \n",
      "Y shape ::  (48000,)\n",
      "====================================================================================================\n",
      "X_Test shape ::  (12000, 4) \n",
      "Y_test shape ::  (12000,)\n",
      "====================================================================================================\n",
      "x_train shape ::  (38400, 4) \n",
      "y_train shape ::  (38400,)\n",
      "====================================================================================================\n",
      "x_cv shape ::  (9600, 4) \n",
      "y_cv shape ::  (9600,)\n"
     ]
    }
   ],
   "source": [
    "print(\"X shape :: \" , X_Train.shape , \"\\nY shape :: \" , Y_Train.shape)\n",
    "print(\"==\"*50)\n",
    "print(\"X_Test shape :: \" , X_Test.shape , \"\\nY_test shape :: \" , Y_Test.shape)\n",
    "print(\"==\"*50)\n",
    "print(\"x_train shape :: \" , x_train.shape , \"\\ny_train shape :: \" , y_train.shape)\n",
    "print(\"==\"*50)\n",
    "print(\"x_cv shape :: \" , x_cv.shape , \"\\ny_cv shape :: \" , y_cv.shape)"
   ]
  },
  {
   "cell_type": "code",
   "execution_count": 12,
   "metadata": {},
   "outputs": [
    {
     "data": {
      "text/plain": [
       "0    5182\n",
       "1    4418\n",
       "Name: Score, dtype: int64"
      ]
     },
     "execution_count": 12,
     "metadata": {},
     "output_type": "execute_result"
    }
   ],
   "source": [
    "y_cv.value_counts()"
   ]
  },
  {
   "cell_type": "code",
   "execution_count": 13,
   "metadata": {},
   "outputs": [
    {
     "data": {
      "text/plain": [
       "1    19855\n",
       "0    18545\n",
       "Name: Score, dtype: int64"
      ]
     },
     "execution_count": 13,
     "metadata": {},
     "output_type": "execute_result"
    }
   ],
   "source": [
    "y_train.value_counts()"
   ]
  },
  {
   "cell_type": "code",
   "execution_count": 14,
   "metadata": {},
   "outputs": [
    {
     "data": {
      "text/plain": [
       "0    6222\n",
       "1    5778\n",
       "Name: Score, dtype: int64"
      ]
     },
     "execution_count": 14,
     "metadata": {},
     "output_type": "execute_result"
    }
   ],
   "source": [
    "Y_Test.value_counts()"
   ]
  },
  {
   "cell_type": "markdown",
   "metadata": {
    "colab_type": "text",
    "id": "WEbTAOWHDYMu"
   },
   "source": [
    "## Applying KNN "
   ]
  },
  {
   "cell_type": "markdown",
   "metadata": {
    "heading_collapsed": true
   },
   "source": [
    "#### <font color = 'darkblue'><i> Function to find the best 'K' and Visualize various Plots"
   ]
  },
  {
   "cell_type": "code",
   "execution_count": 18,
   "metadata": {
    "hidden": true
   },
   "outputs": [],
   "source": [
    "from sklearn.metrics import accuracy_score , roc_auc_score\n",
    "from sklearn.metrics import roc_curve, auc\n",
    "from sklearn.metrics import confusion_matrix\n",
    "import scikitplot.metrics as skplt\n",
    "from sklearn.metrics import f1_score\n",
    "from sklearn.model_selection import cross_val_score"
   ]
  },
  {
   "cell_type": "code",
   "execution_count": 16,
   "metadata": {
    "hidden": true
   },
   "outputs": [],
   "source": [
    "def KNN_find_k (train_data , train_target , cv_data = None , cv_target = None , upper_bound = 30 , algo = \"brute\" , metr = \"cosine\" \n",
    "                , plot_stuff = True):\n",
    "\n",
    "    neigh = list(range(3,upper_bound,2))\n",
    "\n",
    "    auc_train = []\n",
    "    auc_cv = []\n",
    "    f1 = []\n",
    "    i = 0\n",
    "\n",
    "    for k in tqdm(neigh):\n",
    "        \n",
    "        print(\"fitting...\")\n",
    "        KNN = KNeighborsClassifier(n_neighbors = k , algorithm = algo , metric = metr , n_jobs = -1)\n",
    "        model = KNN.fit(train_data , train_target)\n",
    "        print(\"fitted...\")\n",
    "        \n",
    "        print(\"predicting...\")\n",
    "        train_pred = model.predict_proba(train_data)[: , 1]\n",
    "        cv_pred = model.predict_proba(cv_data)[: , 1]\n",
    "        print (\"predicted...\")\n",
    "        \n",
    "        auc_train.append(roc_auc_score(train_target, train_pred))\n",
    "        auc_cv.append(roc_auc_score(cv_target,cv_pred))\n",
    "        f1.append(f1_score(cv_target, model.predict(cv_data)))\n",
    "        print(\"k =\", k\n",
    "              ,\"-------> auc_train = \" , auc_train[i]\n",
    "              ,\"-------> auc_cv = \",auc_cv[i]\n",
    "              ,\"------> f1_score = \", f1[i])\n",
    "        i += 1\n",
    "\n",
    "    print (\"==\"*50)\n",
    "\n",
    "    idx_best_k, = np.where(f1 == max(f1))\n",
    "    best_k = neigh[int(idx_best_k)]\n",
    "\n",
    "    print (\"BEST K ------> \" , best_k)\n",
    "\n",
    "    if (plot_stuff == True):\n",
    "        auc_train = np.array(auc_train)\n",
    "        auc_cv = np.array(auc_cv)\n",
    "        plt.scatter(neigh, auc_train)\n",
    "        plt.plot(neigh, auc_train, label=\"Train\")\n",
    "        plt.scatter(neigh, auc_cv)\n",
    "        plt.plot(neigh, auc_cv, label='Cv')\n",
    "        plt.scatter(neigh, auc_train-auc_cv)\n",
    "        plt.plot(neigh, auc_train-auc_cv, label='Difference')\n",
    "        plt.grid()\n",
    "        plt.xlabel('K-hyperparameter')\n",
    "        plt.ylabel('AUC')\n",
    "        plt.legend()\n",
    "        plt.title('AUC score V/S K')\n",
    "        plt.show()\n",
    "        \n",
    "        plt.scatter(neigh, f1)\n",
    "        plt.plot(neigh, f1)\n",
    "        plt.title(\"K-hyperparameter V/S F1 Scores\")\n",
    "        plt.xlabel('K-hyperparameter')\n",
    "        plt.ylabel('F1-Scores')\n",
    "        plt.show()\n",
    "\n",
    "\n",
    "    \n",
    "    return best_k;"
   ]
  },
  {
   "cell_type": "markdown",
   "metadata": {
    "colab_type": "text",
    "id": "ArO5fI7kDYMv"
   },
   "source": [
    "### [1] Applying KNN brute force on <font color='red'>BOW</font>"
   ]
  },
  {
   "cell_type": "markdown",
   "metadata": {
    "heading_collapsed": true
   },
   "source": [
    "#### <u><font color = 'DarkOrange'> UNI-GRAM"
   ]
  },
  {
   "cell_type": "code",
   "execution_count": 17,
   "metadata": {
    "colab": {},
    "colab_type": "code",
    "hidden": true,
    "id": "Rw_A_9pfDYMw"
   },
   "outputs": [],
   "source": [
    "from sklearn.feature_extraction.text import CountVectorizer\n",
    "from sklearn.preprocessing import Normalizer\n",
    "\n",
    "cv = CountVectorizer(min_df = 10 , max_features = 5000)\n",
    "\n",
    "bow_train = cv.fit(x_train.CleanedText)\n",
    "bow_train = cv.transform(x_train.CleanedText)\n",
    "bow_cv = cv.transform(x_cv.CleanedText)\n",
    "\n",
    "bow_train = Normalizer().fit_transform(bow_train)\n",
    "bow_cv = Normalizer().fit_transform(bow_cv)"
   ]
  },
  {
   "cell_type": "code",
   "execution_count": 18,
   "metadata": {
    "hidden": true
   },
   "outputs": [
    {
     "data": {
      "text/plain": [
       "(38400, 5000)"
      ]
     },
     "execution_count": 18,
     "metadata": {},
     "output_type": "execute_result"
    }
   ],
   "source": [
    "bow_train.shape"
   ]
  },
  {
   "cell_type": "code",
   "execution_count": 19,
   "metadata": {
    "hidden": true,
    "scrolled": false
   },
   "outputs": [
    {
     "name": "stdout",
     "output_type": "stream",
     "text": [
      "k = 3 -------> auc_train =  0.9377748904789149 -------> auc_cv =  0.735689246809916 ------> f1_score =  0.6847770374167094\n",
      "k = 5 -------> auc_train =  0.9161325616742272 -------> auc_cv =  0.7767645216795744 ------> f1_score =  0.7028209053137984\n",
      "k = 7 -------> auc_train =  0.904072733683721 -------> auc_cv =  0.7963588464160061 ------> f1_score =  0.7054545454545454\n",
      "k = 9 -------> auc_train =  0.8961497132898069 -------> auc_cv =  0.8105987918832432 ------> f1_score =  0.7153774895785086\n",
      "k = 11 -------> auc_train =  0.8911983208778622 -------> auc_cv =  0.8175100233188043 ------> f1_score =  0.7147379528666901\n",
      "k = 13 -------> auc_train =  0.8873055368654109 -------> auc_cv =  0.8215301451670851 ------> f1_score =  0.7183081858144232\n",
      "k = 15 -------> auc_train =  0.8845726905478823 -------> auc_cv =  0.825904906528343 ------> f1_score =  0.7198662047545096\n",
      "k = 17 -------> auc_train =  0.8821154673558174 -------> auc_cv =  0.8292596040335121 ------> f1_score =  0.7211145808311313\n",
      "k = 19 -------> auc_train =  0.8804569470488215 -------> auc_cv =  0.8312168295699518 ------> f1_score =  0.725234996384671\n",
      "k = 21 -------> auc_train =  0.8786208071446029 -------> auc_cv =  0.8330010181191294 ------> f1_score =  0.7230899624651895\n",
      "k = 23 -------> auc_train =  0.8768161717209871 -------> auc_cv =  0.8343151945965785 ------> f1_score =  0.7266335313371317\n",
      "k = 25 -------> auc_train =  0.8756093527950041 -------> auc_cv =  0.8346353752979748 ------> f1_score =  0.7263439552420337\n",
      "k = 27 -------> auc_train =  0.8744668940504604 -------> auc_cv =  0.8358354902684775 ------> f1_score =  0.7283560311284047\n",
      "k = 29 -------> auc_train =  0.8731689607824122 -------> auc_cv =  0.8368851183427467 ------> f1_score =  0.7274502624191382\n",
      "k = 31 -------> auc_train =  0.8719761375104267 -------> auc_cv =  0.8376417918914155 ------> f1_score =  0.7291361639824305\n",
      "k = 33 -------> auc_train =  0.8711728268964605 -------> auc_cv =  0.838246186773052 ------> f1_score =  0.7266936175425702\n",
      "k = 35 -------> auc_train =  0.8702830476936145 -------> auc_cv =  0.8387549404255875 ------> f1_score =  0.727361963190184\n",
      "k = 37 -------> auc_train =  0.8696208384222957 -------> auc_cv =  0.839292427963494 ------> f1_score =  0.7270943211087944\n",
      "k = 39 -------> auc_train =  0.8686116330789622 -------> auc_cv =  0.83885560735327 ------> f1_score =  0.7255962626014261\n",
      "k = 41 -------> auc_train =  0.8676407304157181 -------> auc_cv =  0.83905967256656 ------> f1_score =  0.724252491694352\n",
      "k = 43 -------> auc_train =  0.8669035630506956 -------> auc_cv =  0.8391644037548349 ------> f1_score =  0.7254805322819122\n",
      "k = 45 -------> auc_train =  0.8663082344279052 -------> auc_cv =  0.8389424426844205 ------> f1_score =  0.725253023944705\n",
      "k = 47 -------> auc_train =  0.8654882718918238 -------> auc_cv =  0.8389239568539844 ------> f1_score =  0.7250986193293886\n",
      "k = 49 -------> auc_train =  0.8649602177405444 -------> auc_cv =  0.8393150436071126 ------> f1_score =  0.7241975308641975\n",
      "====================================================================================================\n",
      "BEST K ------>  31\n"
     ]
    },
    {
     "data": {
      "image/png": "[encoded data removed]",
      "text/plain": [
       "<Figure size 432x288 with 1 Axes>"
      ]
     },
     "metadata": {
      "needs_background": "light"
     },
     "output_type": "display_data"
    },
    {
     "data": {
      "image/png": "[encoded data removed]",
      "text/plain": [
       "<Figure size 432x288 with 1 Axes>"
      ]
     },
     "metadata": {
      "needs_background": "light"
     },
     "output_type": "display_data"
    },
    {
     "name": "stdout",
     "output_type": "stream",
     "text": [
      "Using the best_k = 31\n",
      "TEST roc_auc_score =  0.8489376913515153\n",
      "TEST f1_score =  0.7281684698608965\n",
      "TEST accuracy_score =  0.7655\n",
      "\n",
      "\n",
      "\n",
      "AxesSubplot(0.125,0.125;0.62x0.755)\n"
     ]
    },
    {
     "data": {
      "image/png": "[encoded data removed]",
      "text/plain": [
       "<Figure size 432x288 with 2 Axes>"
      ]
     },
     "metadata": {
      "needs_background": "light"
     },
     "output_type": "display_data"
    }
   ],
   "source": [
    "k = KNN_find_k (train_data = bow_train , train_target = y_train , cv_data = bow_cv , cv_target = y_cv , upper_bound = 50 , algo = \"brute\" , metr = \"euclidean\" \n",
    "                , plot_stuff = True)\n",
    "\n",
    "cv = CountVectorizer(min_df = 10 , max_features = 5000)\n",
    "\n",
    "bow_train = cv.fit(X_Train.CleanedText)\n",
    "bow_train = cv.transform(X_Train.CleanedText)\n",
    "bow_test = cv.transform(X_Test.CleanedText)\n",
    "\n",
    "bow_train = Normalizer().fit_transform(bow_train)\n",
    "bow_cv = Normalizer().fit_transform(bow_cv)\n",
    "\n",
    "KNN = KNeighborsClassifier(n_neighbors = k , algorithm = 'brute')\n",
    "model = KNN.fit(bow_train , Y_Train)\n",
    "y_pred_proba = KNN.predict_proba(bow_test)[: , 1]\n",
    "\n",
    "y_pred = []\n",
    "\n",
    "for i in y_pred_proba:\n",
    "    if (i > 0.5):\n",
    "        y_pred.append(1)\n",
    "    else:\n",
    "        y_pred.append(0)\n",
    "\n",
    "print(\"Using the best_k =\" , k)\n",
    "print(\"TEST roc_auc_score = \" , roc_auc_score(Y_Test, y_pred_proba))\n",
    "print(\"TEST f1_score = \" , f1_score(Y_Test, y_pred))\n",
    "print(\"TEST accuracy_score = \" , accuracy_score(Y_Test, y_pred))\n",
    "\n",
    "print(\"\\n\\n\")\n",
    "print(skplt.plot_confusion_matrix(Y_Test , y_pred))"
   ]
  },
  {
   "cell_type": "markdown",
   "metadata": {
    "colab_type": "text",
    "heading_collapsed": true,
    "id": "ArO5fI7kDYMv"
   },
   "source": [
    "#### <u><font color = 'DarkOrange'> UNI+BI-GRAM"
   ]
  },
  {
   "cell_type": "code",
   "execution_count": 20,
   "metadata": {
    "colab": {},
    "colab_type": "code",
    "hidden": true,
    "id": "Rw_A_9pfDYMw"
   },
   "outputs": [],
   "source": [
    "from sklearn.feature_extraction.text import CountVectorizer\n",
    "from sklearn.preprocessing import Normalizer\n",
    "\n",
    "cv = CountVectorizer(ngram_range = (1,2) , max_features = 5000)\n",
    "\n",
    "bow_train = cv.fit(x_train.CleanedText)\n",
    "bow_train = cv.transform(x_train.CleanedText)\n",
    "bow_cv = cv.transform(x_cv.CleanedText)\n",
    "\n",
    "bow_train = Normalizer().fit_transform(bow_train)\n",
    "bow_cv = Normalizer().fit_transform(bow_cv)"
   ]
  },
  {
   "cell_type": "code",
   "execution_count": 21,
   "metadata": {
    "hidden": true
   },
   "outputs": [
    {
     "data": {
      "text/plain": [
       "(38400, 5000)"
      ]
     },
     "execution_count": 21,
     "metadata": {},
     "output_type": "execute_result"
    }
   ],
   "source": [
    "bow_train.shape"
   ]
  },
  {
   "cell_type": "code",
   "execution_count": 22,
   "metadata": {
    "hidden": true,
    "scrolled": false
   },
   "outputs": [
    {
     "name": "stdout",
     "output_type": "stream",
     "text": [
      "k = 3 -------> auc_train =  0.9553502677360733 -------> auc_cv =  0.6881779967836403 ------> f1_score =  0.6367685919214798\n",
      "k = 5 -------> auc_train =  0.9251895396683008 -------> auc_cv =  0.7686490673111915 ------> f1_score =  0.6989188198643943\n",
      "k = 7 -------> auc_train =  0.913467710931671 -------> auc_cv =  0.7983489356509991 ------> f1_score =  0.7207027350768617\n",
      "k = 9 -------> auc_train =  0.9056692268709473 -------> auc_cv =  0.815209892183033 ------> f1_score =  0.7314178638351032\n",
      "k = 11 -------> auc_train =  0.9004556257591345 -------> auc_cv =  0.8252399629042262 ------> f1_score =  0.7348906986712388\n",
      "k = 13 -------> auc_train =  0.8965636592688749 -------> auc_cv =  0.8312874297095963 ------> f1_score =  0.738760366652117\n",
      "k = 15 -------> auc_train =  0.8935601533534744 -------> auc_cv =  0.8351023719505536 ------> f1_score =  0.738980792716776\n",
      "k = 17 -------> auc_train =  0.8914488955036182 -------> auc_cv =  0.8395017810857266 ------> f1_score =  0.7418591549295773\n",
      "k = 19 -------> auc_train =  0.889348133715255 -------> auc_cv =  0.8416790448166015 ------> f1_score =  0.739997720278126\n",
      "k = 21 -------> auc_train =  0.8873017412266643 -------> auc_cv =  0.84395730323811 ------> f1_score =  0.7445689458037962\n",
      "k = 23 -------> auc_train =  0.8864264098952408 -------> auc_cv =  0.8449137373799792 ------> f1_score =  0.7427582227351415\n",
      "k = 25 -------> auc_train =  0.8852146057135014 -------> auc_cv =  0.8464781499450822 ------> f1_score =  0.741042345276873\n",
      "k = 27 -------> auc_train =  0.8842734855738187 -------> auc_cv =  0.8475086585138765 ------> f1_score =  0.7409828411345862\n",
      "k = 29 -------> auc_train =  0.8835538270354013 -------> auc_cv =  0.8478555628212104 ------> f1_score =  0.7424882629107981\n",
      "k = 31 -------> auc_train =  0.8825380801565245 -------> auc_cv =  0.8480725200439062 ------> f1_score =  0.7413671599718112\n",
      "k = 33 -------> auc_train =  0.8820330144033504 -------> auc_cv =  0.8480781794175267 ------> f1_score =  0.7427024482109228\n",
      "k = 35 -------> auc_train =  0.8805952291621172 -------> auc_cv =  0.8489831329252261 ------> f1_score =  0.7427218934911243\n",
      "k = 37 -------> auc_train =  0.8796346989814303 -------> auc_cv =  0.8494966282151196 ------> f1_score =  0.7429113773875904\n",
      "k = 39 -------> auc_train =  0.8790785041410242 -------> auc_cv =  0.8496803502745844 ------> f1_score =  0.7411288402000477\n",
      "k = 41 -------> auc_train =  0.8782975613144631 -------> auc_cv =  0.8505785737163568 ------> f1_score =  0.7395659432387314\n",
      "k = 43 -------> auc_train =  0.8778094679738315 -------> auc_cv =  0.8504819273475398 ------> f1_score =  0.7412003340890108\n",
      "k = 45 -------> auc_train =  0.8772943746727129 -------> auc_cv =  0.8509839727850118 ------> f1_score =  0.7410852713178294\n",
      "k = 47 -------> auc_train =  0.8767908624833047 -------> auc_cv =  0.850582572424359 ------> f1_score =  0.7410949079607938\n",
      "k = 49 -------> auc_train =  0.8761597000431227 -------> auc_cv =  0.850894056482122 ------> f1_score =  0.7402271368798566\n",
      "====================================================================================================\n",
      "BEST K ------>  21\n"
     ]
    },
    {
     "data": {
      "image/png": "[encoded data removed]",
      "text/plain": [
       "<Figure size 432x288 with 1 Axes>"
      ]
     },
     "metadata": {
      "needs_background": "light"
     },
     "output_type": "display_data"
    },
    {
     "data": {
      "image/png": "[encoded data removed]",
      "text/plain": [
       "<Figure size 432x288 with 1 Axes>"
      ]
     },
     "metadata": {
      "needs_background": "light"
     },
     "output_type": "display_data"
    },
    {
     "name": "stdout",
     "output_type": "stream",
     "text": [
      "Using the best_k = 21\n",
      "TEST roc_auc_score =  0.8582996542966216\n",
      "TEST f1_score =  0.7651066088649031\n",
      "TEST accuracy_score =  0.77875\n",
      "\n",
      "\n",
      "\n",
      "AxesSubplot(0.125,0.125;0.62x0.755)\n"
     ]
    },
    {
     "data": {
      "image/png": "[encoded data removed]",
      "text/plain": [
       "<Figure size 432x288 with 2 Axes>"
      ]
     },
     "metadata": {
      "needs_background": "light"
     },
     "output_type": "display_data"
    }
   ],
   "source": [
    "k = KNN_find_k (train_data = bow_train , train_target = y_train , cv_data = bow_cv , cv_target = y_cv , upper_bound = 50 , algo = \"brute\" , metr = \"euclidean\" \n",
    "                , plot_stuff = True)\n",
    "\n",
    "cv = CountVectorizer(ngram_range = (1,2) , max_features = 5000)\n",
    "\n",
    "bow_train = cv.fit(X_Train.CleanedText)\n",
    "bow_train = cv.transform(X_Train.CleanedText)\n",
    "bow_test = cv.transform(X_Test.CleanedText)\n",
    "\n",
    "bow_train = Normalizer().fit_transform(bow_train)\n",
    "bow_test = Normalizer().fit_transform(bow_test)\n",
    "\n",
    "KNN = KNeighborsClassifier(n_neighbors = k , algorithm = 'brute')\n",
    "model = KNN.fit(bow_train , Y_Train)\n",
    "y_pred_proba = KNN.predict_proba(bow_test)[: , 1]\n",
    "\n",
    "y_pred = []\n",
    "\n",
    "for i in y_pred_proba:\n",
    "    if (i > 0.5):\n",
    "        y_pred.append(1)\n",
    "    else:\n",
    "        y_pred.append(0)\n",
    "\n",
    "print(\"Using the best_k =\" , k)\n",
    "print(\"TEST roc_auc_score = \" , roc_auc_score(Y_Test, y_pred_proba))\n",
    "print(\"TEST f1_score = \" , f1_score(Y_Test, y_pred))\n",
    "print(\"TEST accuracy_score = \" , accuracy_score(Y_Test, y_pred))\n",
    "\n",
    "print(\"\\n\\n\")\n",
    "print(skplt.plot_confusion_matrix(Y_Test , y_pred))"
   ]
  },
  {
   "cell_type": "code",
   "execution_count": 23,
   "metadata": {
    "hidden": true
   },
   "outputs": [],
   "source": [
    "del bow_train , bow_cv , bow_test;"
   ]
  },
  {
   "cell_type": "markdown",
   "metadata": {
    "colab_type": "text",
    "id": "m0UxvEKBDYM8"
   },
   "source": [
    "### [2] Applying KNN brute force on <font color='red'>TFIDF</font>"
   ]
  },
  {
   "cell_type": "markdown",
   "metadata": {},
   "source": [
    "#### <u><font color = 'DarkOrange'> UNI-GRAM"
   ]
  },
  {
   "cell_type": "code",
   "execution_count": 24,
   "metadata": {
    "colab": {},
    "colab_type": "code",
    "id": "Rw_A_9pfDYMw"
   },
   "outputs": [],
   "source": [
    "from sklearn.feature_extraction.text import TfidfVectorizer\n",
    "from sklearn.preprocessing import Normalizer\n",
    "\n",
    "cv = TfidfVectorizer(min_df = 10 , max_features = 5000)\n",
    "\n",
    "tfidf_train = cv.fit(x_train.CleanedText)\n",
    "tfidf_train = cv.transform(x_train.CleanedText)\n",
    "tfidf_cv = cv.transform(x_cv.CleanedText)\n",
    "\n",
    "bow_train = Normalizer().fit_transform(tfidf_train)\n",
    "bow_cv = Normalizer().fit_transform(tfidf_cv)"
   ]
  },
  {
   "cell_type": "code",
   "execution_count": 25,
   "metadata": {},
   "outputs": [
    {
     "data": {
      "text/plain": [
       "(38400, 5000)"
      ]
     },
     "execution_count": 25,
     "metadata": {},
     "output_type": "execute_result"
    }
   ],
   "source": [
    "bow_train.shape"
   ]
  },
  {
   "cell_type": "code",
   "execution_count": 26,
   "metadata": {
    "scrolled": false
   },
   "outputs": [
    {
     "name": "stdout",
     "output_type": "stream",
     "text": [
      "k = 3 -------> auc_train =  0.9345391675207917 -------> auc_cv =  0.6914394129529559 ------> f1_score =  0.6710235640648012\n",
      "k = 5 -------> auc_train =  0.902474832239829 -------> auc_cv =  0.7358030461065017 ------> f1_score =  0.6845128005451183\n",
      "k = 7 -------> auc_train =  0.8875122749191655 -------> auc_cv =  0.7564852379281518 ------> f1_score =  0.6902443870454997\n",
      "k = 9 -------> auc_train =  0.8792965299762682 -------> auc_cv =  0.7720698418272811 ------> f1_score =  0.6981378963261198\n",
      "k = 11 -------> auc_train =  0.8743608090030127 -------> auc_cv =  0.7816485611140899 ------> f1_score =  0.7028507659531298\n",
      "k = 13 -------> auc_train =  0.8712370214006452 -------> auc_cv =  0.7882044319581812 ------> f1_score =  0.7074217951339195\n",
      "k = 15 -------> auc_train =  0.8692578300510099 -------> auc_cv =  0.7944450385451416 ------> f1_score =  0.7144475337246422\n",
      "k = 17 -------> auc_train =  0.8681251910788371 -------> auc_cv =  0.8006959587396264 ------> f1_score =  0.7182137688649989\n",
      "k = 19 -------> auc_train =  0.8675748995091401 -------> auc_cv =  0.8040305315996042 ------> f1_score =  0.7198757763975157\n",
      "k = 21 -------> auc_train =  0.8675595132526104 -------> auc_cv =  0.8069740614081806 ------> f1_score =  0.7206326084694622\n",
      "k = 23 -------> auc_train =  0.8675776997263479 -------> auc_cv =  0.8100592066624507 ------> f1_score =  0.7244324099146011\n",
      "k = 25 -------> auc_train =  0.8674717925782479 -------> auc_cv =  0.8124803915814566 ------> f1_score =  0.7272537562604341\n",
      "k = 27 -------> auc_train =  0.867062735436206 -------> auc_cv =  0.8147988118898939 ------> f1_score =  0.7293970373461297\n",
      "k = 29 -------> auc_train =  0.8669107835913812 -------> auc_cv =  0.8171740225923068 ------> f1_score =  0.7318447412353922\n",
      "k = 31 -------> auc_train =  0.8669272331699641 -------> auc_cv =  0.8186138852360315 ------> f1_score =  0.7326774126020515\n",
      "k = 33 -------> auc_train =  0.8667501038144543 -------> auc_cv =  0.8217021770146311 ------> f1_score =  0.7351125065410778\n",
      "k = 35 -------> auc_train =  0.8671840505690004 -------> auc_cv =  0.8232969841307232 ------> f1_score =  0.7403775946594346\n",
      "k = 37 -------> auc_train =  0.8674187025241643 -------> auc_cv =  0.825007731928014 ------> f1_score =  0.7390078328981723\n",
      "k = 39 -------> auc_train =  0.867416763285477 -------> auc_cv =  0.8261300359739505 ------> f1_score =  0.7374999999999999\n",
      "k = 41 -------> auc_train =  0.8676070979329986 -------> auc_cv =  0.8273173681893645 ------> f1_score =  0.7415753781950967\n",
      "k = 43 -------> auc_train =  0.8681212677871237 -------> auc_cv =  0.8281157768871269 ------> f1_score =  0.7408333333333333\n",
      "k = 45 -------> auc_train =  0.86807684862871 -------> auc_cv =  0.8293502851166208 ------> f1_score =  0.7404237553491285\n",
      "k = 47 -------> auc_train =  0.8679420294416413 -------> auc_cv =  0.8300780499730119 ------> f1_score =  0.7411262621005517\n",
      "k = 49 -------> auc_train =  0.8679048321819235 -------> auc_cv =  0.8317147233433779 ------> f1_score =  0.7399541952946075\n",
      "k = 51 -------> auc_train =  0.868214446304822 -------> auc_cv =  0.8328376829152163 ------> f1_score =  0.7432193702587551\n",
      "k = 53 -------> auc_train =  0.8687323058728915 -------> auc_cv =  0.8337607726395376 ------> f1_score =  0.7443460135487232\n",
      "k = 55 -------> auc_train =  0.8689991698320166 -------> auc_cv =  0.8349784338533505 ------> f1_score =  0.7452574525745257\n",
      "k = 57 -------> auc_train =  0.8692320604478408 -------> auc_cv =  0.8355195704854446 ------> f1_score =  0.7442441921033441\n",
      "k = 59 -------> auc_train =  0.8697748340725997 -------> auc_cv =  0.8361171478977 ------> f1_score =  0.7459987528580335\n",
      "k = 61 -------> auc_train =  0.8699689589268269 -------> auc_cv =  0.837196405742739 ------> f1_score =  0.7463896103896105\n",
      "k = 63 -------> auc_train =  0.8702327388445946 -------> auc_cv =  0.8375387432196224 ------> f1_score =  0.7447428690401833\n",
      "k = 65 -------> auc_train =  0.8705207782580946 -------> auc_cv =  0.8383830387305242 ------> f1_score =  0.7473487211478477\n",
      "k = 67 -------> auc_train =  0.8710341536762028 -------> auc_cv =  0.8391069359840937 ------> f1_score =  0.7485185570225595\n",
      "k = 69 -------> auc_train =  0.8710997605110838 -------> auc_cv =  0.8399896890145789 ------> f1_score =  0.7494013534617386\n",
      "k = 71 -------> auc_train =  0.8713464213511981 -------> auc_cv =  0.8407843175129731 ------> f1_score =  0.7513547311379742\n",
      "k = 73 -------> auc_train =  0.8716036719555156 -------> auc_cv =  0.8413560453538268 ------> f1_score =  0.7500259848248624\n",
      "k = 75 -------> auc_train =  0.8721250555602748 -------> auc_cv =  0.8417511963675475 ------> f1_score =  0.7504690431519699\n",
      "====================================================================================================\n",
      "BEST K ------>  71\n"
     ]
    },
    {
     "data": {
      "image/png": "[encoded data removed]",
      "text/plain": [
       "<Figure size 432x288 with 1 Axes>"
      ]
     },
     "metadata": {
      "needs_background": "light"
     },
     "output_type": "display_data"
    },
    {
     "data": {
      "image/png": "[encoded data removed]",
      "text/plain": [
       "<Figure size 432x288 with 1 Axes>"
      ]
     },
     "metadata": {
      "needs_background": "light"
     },
     "output_type": "display_data"
    },
    {
     "name": "stdout",
     "output_type": "stream",
     "text": [
      "Using the best_k = 71\n",
      "TEST roc_auc_score =  0.8662395887072217\n",
      "TEST f1_score =  0.7818599311136624\n",
      "TEST accuracy_score =  0.7783333333333333\n",
      "\n",
      "\n",
      "\n",
      "AxesSubplot(0.125,0.125;0.62x0.755)\n"
     ]
    },
    {
     "data": {
      "image/png": "[encoded data removed]",
      "text/plain": [
       "<Figure size 432x288 with 2 Axes>"
      ]
     },
     "metadata": {
      "needs_background": "light"
     },
     "output_type": "display_data"
    }
   ],
   "source": [
    "k = KNN_find_k (train_data = bow_train , train_target = y_train , cv_data = bow_cv , cv_target = y_cv , upper_bound = 76 , algo = \"brute\" , metr = \"euclidean\" \n",
    "                , plot_stuff = True)\n",
    "\n",
    "cv = TfidfVectorizer(ngram_range = (1,2), max_features = 5000)\n",
    "\n",
    "bow_train = cv.fit(X_Train.CleanedText)\n",
    "bow_train = cv.transform(X_Train.CleanedText)\n",
    "bow_test = cv.transform(X_Test.CleanedText)\n",
    "\n",
    "bow_train = Normalizer().fit_transform(bow_train)\n",
    "bow_test = Normalizer().fit_transform(bow_test)\n",
    "\n",
    "KNN = KNeighborsClassifier(n_neighbors = k , algorithm = 'brute')\n",
    "model = KNN.fit(bow_train , Y_Train)\n",
    "y_pred_proba = KNN.predict_proba(bow_test)[: , 1]\n",
    "\n",
    "y_pred = []\n",
    "\n",
    "for i in y_pred_proba:\n",
    "    if (i > 0.5):\n",
    "        y_pred.append(1)\n",
    "    else:\n",
    "        y_pred.append(0)\n",
    "\n",
    "print(\"Using the best_k =\" , k)\n",
    "print(\"TEST roc_auc_score = \" , roc_auc_score(Y_Test, y_pred_proba))\n",
    "print(\"TEST f1_score = \" , f1_score(Y_Test, y_pred))\n",
    "print(\"TEST accuracy_score = \" , accuracy_score(Y_Test, y_pred))\n",
    "\n",
    "print(\"\\n\\n\")\n",
    "print(skplt.plot_confusion_matrix(Y_Test , y_pred))"
   ]
  },
  {
   "cell_type": "code",
   "execution_count": 27,
   "metadata": {},
   "outputs": [],
   "source": [
    "del tfidf_train , tfidf_cv , bow_train , bow_test;"
   ]
  },
  {
   "cell_type": "markdown",
   "metadata": {
    "colab_type": "text",
    "id": "m0UxvEKBDYM8"
   },
   "source": [
    "#### <u><font color = 'DarkOrange'> UNI+BI-GRAM"
   ]
  },
  {
   "cell_type": "code",
   "execution_count": 28,
   "metadata": {
    "colab": {},
    "colab_type": "code",
    "id": "Rw_A_9pfDYMw"
   },
   "outputs": [],
   "source": [
    "from sklearn.feature_extraction.text import TfidfVectorizer\n",
    "from sklearn.preprocessing import Normalizer\n",
    "\n",
    "cv = TfidfVectorizer(ngram_range = (1,2), max_features = 5000)\n",
    "\n",
    "tfidf_train = cv.fit(x_train.CleanedText)\n",
    "tfidf_train = cv.transform(x_train.CleanedText)\n",
    "tfidf_cv = cv.transform(x_cv.CleanedText)\n",
    "\n",
    "bow_train = Normalizer().fit_transform(tfidf_train)\n",
    "bow_cv = Normalizer().fit_transform(tfidf_cv)"
   ]
  },
  {
   "cell_type": "code",
   "execution_count": 29,
   "metadata": {},
   "outputs": [
    {
     "data": {
      "text/plain": [
       "(38400, 5000)"
      ]
     },
     "execution_count": 29,
     "metadata": {},
     "output_type": "execute_result"
    }
   ],
   "source": [
    "bow_train.shape"
   ]
  },
  {
   "cell_type": "code",
   "execution_count": 30,
   "metadata": {},
   "outputs": [
    {
     "name": "stdout",
     "output_type": "stream",
     "text": [
      "k = 3 -------> auc_train =  0.9723820905125587 -------> auc_cv =  0.6614572751597505 ------> f1_score =  0.6277903002981168\n",
      "k = 5 -------> auc_train =  0.918916637571749 -------> auc_cv =  0.7400886996468158 ------> f1_score =  0.6810192582625515\n",
      "k = 7 -------> auc_train =  0.9008835212198505 -------> auc_cv =  0.7672574076721266 ------> f1_score =  0.7003932785126923\n",
      "k = 9 -------> auc_train =  0.8918355889322857 -------> auc_cv =  0.7859833353953265 ------> f1_score =  0.7128749423165667\n",
      "k = 11 -------> auc_train =  0.8859686463563157 -------> auc_cv =  0.7985123145566387 ------> f1_score =  0.7175917215428034\n",
      "k = 13 -------> auc_train =  0.8827307532977567 -------> auc_cv =  0.8043042573654126 ------> f1_score =  0.7237093690248566\n",
      "k = 15 -------> auc_train =  0.8810035271764096 -------> auc_cv =  0.8102494184283452 ------> f1_score =  0.7285230024213073\n",
      "k = 17 -------> auc_train =  0.8789563103755756 -------> auc_cv =  0.817922502067201 ------> f1_score =  0.7284119835519876\n",
      "k = 19 -------> auc_train =  0.8779563014778922 -------> auc_cv =  0.8212311598031866 ------> f1_score =  0.7322663505236119\n",
      "k = 21 -------> auc_train =  0.8770689531134563 -------> auc_cv =  0.8225786588473205 ------> f1_score =  0.7330939557151406\n",
      "k = 23 -------> auc_train =  0.8770477627209687 -------> auc_cv =  0.8256915765489716 ------> f1_score =  0.7318099819603128\n",
      "k = 25 -------> auc_train =  0.8764459577471287 -------> auc_cv =  0.828904221591179 ------> f1_score =  0.7360064315144206\n",
      "k = 27 -------> auc_train =  0.876335755212497 -------> auc_cv =  0.8307496581104657 ------> f1_score =  0.739047235371135\n",
      "k = 29 -------> auc_train =  0.875873495301518 -------> auc_cv =  0.8341375252262755 ------> f1_score =  0.7429892451502664\n",
      "k = 31 -------> auc_train =  0.8764438691273103 -------> auc_cv =  0.8358619079623278 ------> f1_score =  0.7464973288982966\n",
      "k = 33 -------> auc_train =  0.876660402509251 -------> auc_cv =  0.8374857767267415 ------> f1_score =  0.7484575705471832\n",
      "k = 35 -------> auc_train =  0.876721144951291 -------> auc_cv =  0.8391918702901284 ------> f1_score =  0.7493414387031408\n",
      "k = 37 -------> auc_train =  0.8771352362374594 -------> auc_cv =  0.8403218002873912 ------> f1_score =  0.7500253936008126\n",
      "k = 39 -------> auc_train =  0.8774713492150502 -------> auc_cv =  0.8407784396307187 ------> f1_score =  0.7492607321301111\n",
      "k = 41 -------> auc_train =  0.8776665238112273 -------> auc_cv =  0.8419087847943862 ------> f1_score =  0.750357215758318\n",
      "k = 43 -------> auc_train =  0.8775297137810809 -------> auc_cv =  0.8436077986780316 ------> f1_score =  0.7530273735626336\n",
      "k = 45 -------> auc_train =  0.8776115719250429 -------> auc_cv =  0.8446424807617351 ------> f1_score =  0.7539448233737148\n",
      "k = 47 -------> auc_train =  0.8778394433348534 -------> auc_cv =  0.8454557480466094 ------> f1_score =  0.7546555408568232\n",
      "k = 49 -------> auc_train =  0.878201753688853 -------> auc_cv =  0.8471580177089011 ------> f1_score =  0.7557641297694349\n",
      "k = 51 -------> auc_train =  0.8787785155950262 -------> auc_cv =  0.8483311468631054 ------> f1_score =  0.7553516819571866\n",
      "k = 53 -------> auc_train =  0.8791567133113504 -------> auc_cv =  0.8498728782319994 ------> f1_score =  0.7577119509703779\n",
      "k = 55 -------> auc_train =  0.8792710251851048 -------> auc_cv =  0.8509082376924684 ------> f1_score =  0.7584936553417929\n",
      "k = 57 -------> auc_train =  0.8795665635313987 -------> auc_cv =  0.8522827444037644 ------> f1_score =  0.7601392871773863\n",
      "k = 59 -------> auc_train =  0.8798381139840175 -------> auc_cv =  0.8534634121058415 ------> f1_score =  0.7592782448226367\n",
      "k = 61 -------> auc_train =  0.8801145940139711 -------> auc_cv =  0.85462917751908 ------> f1_score =  0.7600696935533464\n",
      "k = 63 -------> auc_train =  0.880623813920607 -------> auc_cv =  0.8551048926661554 ------> f1_score =  0.760168015572175\n",
      "k = 65 -------> auc_train =  0.8808283954540291 -------> auc_cv =  0.8560801841031386 ------> f1_score =  0.7627639942587657\n",
      "k = 67 -------> auc_train =  0.8811598545303728 -------> auc_cv =  0.856705686918819 ------> f1_score =  0.7638190954773869\n",
      "k = 69 -------> auc_train =  0.8816670795199002 -------> auc_cv =  0.8569181865653812 ------> f1_score =  0.7638232271325796\n",
      "k = 71 -------> auc_train =  0.8819681123758074 -------> auc_cv =  0.8574383900703384 ------> f1_score =  0.7629820051413883\n",
      "k = 73 -------> auc_train =  0.8820204840424504 -------> auc_cv =  0.858071387732165 ------> f1_score =  0.762697923092741\n",
      "k = 75 -------> auc_train =  0.8822881234254482 -------> auc_cv =  0.8586157582920422 ------> f1_score =  0.7627170897132874\n",
      "====================================================================================================\n",
      "BEST K ------>  69\n"
     ]
    },
    {
     "data": {
      "image/png": "[encoded data removed]",
      "text/plain": [
       "<Figure size 432x288 with 1 Axes>"
      ]
     },
     "metadata": {
      "needs_background": "light"
     },
     "output_type": "display_data"
    },
    {
     "data": {
      "image/png": "[encoded data removed]",
      "text/plain": [
       "<Figure size 432x288 with 1 Axes>"
      ]
     },
     "metadata": {
      "needs_background": "light"
     },
     "output_type": "display_data"
    },
    {
     "name": "stdout",
     "output_type": "stream",
     "text": [
      "Using the best_k = 69\n",
      "TEST roc_auc_score =  0.8657331251931397\n",
      "TEST f1_score =  0.7811552642359689\n",
      "TEST accuracy_score =  0.7774166666666666\n",
      "\n",
      "\n",
      "\n",
      "AxesSubplot(0.125,0.125;0.62x0.755)\n"
     ]
    },
    {
     "data": {
      "image/png": "[encoded data removed]",
      "text/plain": [
       "<Figure size 432x288 with 2 Axes>"
      ]
     },
     "metadata": {
      "needs_background": "light"
     },
     "output_type": "display_data"
    }
   ],
   "source": [
    "k = KNN_find_k (train_data = bow_train , train_target = y_train , cv_data = bow_cv , cv_target = y_cv , upper_bound = 76 , algo = \"brute\" , metr = \"euclidean\" \n",
    "                , plot_stuff = True)\n",
    "\n",
    "cv = TfidfVectorizer(ngram_range = (1,2), max_features = 5000)\n",
    "\n",
    "bow_train = cv.fit(X_Train.CleanedText)\n",
    "bow_train = cv.transform(X_Train.CleanedText)\n",
    "bow_test = cv.transform(X_Test.CleanedText)\n",
    "\n",
    "bow_train = Normalizer().fit_transform(bow_train)\n",
    "bow_test = Normalizer().fit_transform(bow_test)\n",
    "\n",
    "KNN = KNeighborsClassifier(n_neighbors = k , algorithm = 'brute')\n",
    "model = KNN.fit(bow_train , Y_Train)\n",
    "y_pred_proba = KNN.predict_proba(bow_test)[: , 1]\n",
    "\n",
    "y_pred = []\n",
    "\n",
    "for i in y_pred_proba:\n",
    "    if (i > 0.5):\n",
    "        y_pred.append(1)\n",
    "    else:\n",
    "        y_pred.append(0)\n",
    "\n",
    "print(\"Using the best_k =\" , k)\n",
    "print(\"TEST roc_auc_score = \" , roc_auc_score(Y_Test, y_pred_proba))\n",
    "print(\"TEST f1_score = \" , f1_score(Y_Test, y_pred))\n",
    "print(\"TEST accuracy_score = \" , accuracy_score(Y_Test, y_pred))\n",
    "\n",
    "print(\"\\n\\n\")\n",
    "print(skplt.plot_confusion_matrix(Y_Test , y_pred))"
   ]
  },
  {
   "cell_type": "code",
   "execution_count": 35,
   "metadata": {},
   "outputs": [
    {
     "ename": "NameError",
     "evalue": "name 'tfidf_train' is not defined",
     "output_type": "error",
     "traceback": [
      "\u001b[1;31m---------------------------------------------------------------------------\u001b[0m",
      "\u001b[1;31mNameError\u001b[0m                                 Traceback (most recent call last)",
      "\u001b[1;32m<ipython-input-35-647072cad610>\u001b[0m in \u001b[0;36m<module>\u001b[1;34m\u001b[0m\n\u001b[1;32m----> 1\u001b[1;33m \u001b[1;32mdel\u001b[0m \u001b[0mtfidf_train\u001b[0m \u001b[1;33m,\u001b[0m \u001b[0mtfidf_cv\u001b[0m \u001b[1;33m,\u001b[0m \u001b[0mbow_train\u001b[0m \u001b[1;33m,\u001b[0m \u001b[0mbow_test\u001b[0m\u001b[1;33m;\u001b[0m\u001b[1;33m\u001b[0m\u001b[1;33m\u001b[0m\u001b[0m\n\u001b[0m",
      "\u001b[1;31mNameError\u001b[0m: name 'tfidf_train' is not defined"
     ]
    }
   ],
   "source": [
    "del tfidf_train , tfidf_cv , bow_train , bow_test;"
   ]
  },
  {
   "cell_type": "code",
   "execution_count": 32,
   "metadata": {
    "colab": {},
    "colab_type": "code",
    "id": "5ffXQxa7DYM9"
   },
   "outputs": [],
   "source": [
    "# Please write all the code with proper documentation"
   ]
  },
  {
   "cell_type": "markdown",
   "metadata": {
    "colab_type": "text",
    "id": "sgcPCRG8DYNC"
   },
   "source": [
    "### [3] Applying KNN brute force on <font color='red'>AVG W2V</font>"
   ]
  },
  {
   "cell_type": "markdown",
   "metadata": {
    "heading_collapsed": true
   },
   "source": [
    "#### <font color = 'green'>Function to convert review text into Vectors using AVG-W2V"
   ]
  },
  {
   "cell_type": "code",
   "execution_count": 33,
   "metadata": {
    "hidden": true
   },
   "outputs": [],
   "source": [
    "def convert_into_avg_w2v(w2v_new , x , vocabulary):\n",
    "    avg_w2v = []\n",
    "    \n",
    "    for review in tqdm(x.Unstemmed_CleanedText):# preprocessed_reviews = 36k\n",
    "        vec = np.zeros(150) # as we created 150 dimensional w2v\n",
    "        count = 0\n",
    "        for word in review.split():\n",
    "            if word in vocabulary:\n",
    "                vec += w2v_new[word]\n",
    "                count += 1\n",
    "        if count > 0:\n",
    "            vec /= count\n",
    "        \n",
    "        avg_w2v.append(vec)\n",
    "        \n",
    "    avg_w2v = Normalizer().fit_transform(avg_w2v)\n",
    "    \n",
    "    return avg_w2v"
   ]
  },
  {
   "cell_type": "markdown",
   "metadata": {},
   "source": [
    "#### <u> <font color = 'darkorange'>Using AVG-W2V"
   ]
  },
  {
   "cell_type": "code",
   "execution_count": 36,
   "metadata": {},
   "outputs": [
    {
     "name": "stderr",
     "output_type": "stream",
     "text": [
      "100%|██████████████████████████████████████████████████████████████████████████| 38400/38400 [00:33<00:00, 1160.99it/s]\n",
      "100%|████████████████████████████████████████████████████████████████████████████| 9600/9600 [00:07<00:00, 1359.41it/s]"
     ]
    },
    {
     "name": "stdout",
     "output_type": "stream",
     "text": [
      "Shape of train ::  (38400, 150)\n",
      "Shape of CV ::  (9600, 150)\n"
     ]
    },
    {
     "name": "stderr",
     "output_type": "stream",
     "text": [
      "\n"
     ]
    }
   ],
   "source": [
    "w2v_model = KeyedVectors.load_word2vec_format(\"w2v_own_model.bin\" , binary = True)\n",
    "vocabulary = w2v_model.key_to_index\n",
    "\n",
    "avg_w2v_train = convert_into_avg_w2v(w2v_model ,x_train , vocabulary)\n",
    "\n",
    "avg_w2v_cv = convert_into_avg_w2v(w2v_model ,x_cv , vocabulary)\n",
    "\n",
    "print (\"Shape of train :: \" , avg_w2v_train.shape)\n",
    "print (\"Shape of CV :: \" , avg_w2v_cv.shape)"
   ]
  },
  {
   "cell_type": "code",
   "execution_count": 37,
   "metadata": {
    "scrolled": false
   },
   "outputs": [
    {
     "name": "stdout",
     "output_type": "stream",
     "text": [
      "k = 3 -------> auc_train =  0.9488480384426855 -------> auc_cv =  0.8177925986842896 ------> f1_score =  0.7415420023014961\n",
      "k = 5 -------> auc_train =  0.9342428618986867 -------> auc_cv =  0.8454281504061354 ------> f1_score =  0.7531623534872925\n",
      "k = 7 -------> auc_train =  0.9263170562256782 -------> auc_cv =  0.8590278437248975 ------> f1_score =  0.7658929196314008\n",
      "k = 9 -------> auc_train =  0.9223484504249817 -------> auc_cv =  0.8660552780520182 ------> f1_score =  0.7708578143360753\n",
      "k = 11 -------> auc_train =  0.9188239520117841 -------> auc_cv =  0.8712870739775402 ------> f1_score =  0.7691219799646435\n",
      "k = 13 -------> auc_train =  0.9167639509021268 -------> auc_cv =  0.8747059693193775 ------> f1_score =  0.7724219210371244\n",
      "k = 15 -------> auc_train =  0.9151596586618335 -------> auc_cv =  0.8777852803931198 ------> f1_score =  0.7725342142520057\n",
      "k = 17 -------> auc_train =  0.9136563697945008 -------> auc_cv =  0.8795298751778169 ------> f1_score =  0.7725383062121393\n",
      "k = 19 -------> auc_train =  0.9121412757437602 -------> auc_cv =  0.8809598830821482 ------> f1_score =  0.772931974401517\n",
      "k = 21 -------> auc_train =  0.9108994147203817 -------> auc_cv =  0.8810647672264668 ------> f1_score =  0.7765097479790777\n",
      "k = 23 -------> auc_train =  0.9097356664485992 -------> auc_cv =  0.881660137701519 ------> f1_score =  0.7733111322549951\n",
      "k = 25 -------> auc_train =  0.9089073956055939 -------> auc_cv =  0.8823528100712901 ------> f1_score =  0.7761513745091039\n",
      "k = 27 -------> auc_train =  0.9080752259150603 -------> auc_cv =  0.8839333048718554 ------> f1_score =  0.7776190476190477\n",
      "k = 29 -------> auc_train =  0.9073693810572623 -------> auc_cv =  0.8840591002924477 ------> f1_score =  0.7778174461501844\n",
      "k = 31 -------> auc_train =  0.9066042047301106 -------> auc_cv =  0.8845689683390165 ------> f1_score =  0.7770640019034024\n",
      "k = 33 -------> auc_train =  0.905867527606801 -------> auc_cv =  0.8847318665256615 ------> f1_score =  0.7770366841353026\n",
      "k = 35 -------> auc_train =  0.9053117795517786 -------> auc_cv =  0.88438684139258 ------> f1_score =  0.7765602667937113\n",
      "k = 37 -------> auc_train =  0.9050196647494132 -------> auc_cv =  0.8849092736856038 ------> f1_score =  0.7758805970149255\n",
      "k = 39 -------> auc_train =  0.9047311133660358 -------> auc_cv =  0.885114868459332 ------> f1_score =  0.7761336515513126\n",
      "k = 41 -------> auc_train =  0.9044991584192982 -------> auc_cv =  0.8856648983928296 ------> f1_score =  0.7775517530214192\n",
      "k = 43 -------> auc_train =  0.9041502258246166 -------> auc_cv =  0.8855789370962152 ------> f1_score =  0.7766199544855672\n",
      "k = 45 -------> auc_train =  0.903773373896485 -------> auc_cv =  0.885908775879234 ------> f1_score =  0.7778044103547459\n",
      "k = 47 -------> auc_train =  0.9035605275124681 -------> auc_cv =  0.8858485111979775 ------> f1_score =  0.7764057067497903\n",
      "k = 49 -------> auc_train =  0.9031403292540479 -------> auc_cv =  0.8859171666107795 ------> f1_score =  0.7779244151169766\n",
      "k = 51 -------> auc_train =  0.9028043330653418 -------> auc_cv =  0.886097108470876 ------> f1_score =  0.7797790585975024\n",
      "k = 53 -------> auc_train =  0.9024944975867668 -------> auc_cv =  0.8862434437030641 ------> f1_score =  0.7802766085387853\n",
      "k = 55 -------> auc_train =  0.9021155475327447 -------> auc_cv =  0.8857591848683994 ------> f1_score =  0.7777777777777778\n",
      "k = 57 -------> auc_train =  0.901688130091649 -------> auc_cv =  0.8858215472325423 ------> f1_score =  0.7760798941162316\n",
      "k = 59 -------> auc_train =  0.9013989743936949 -------> auc_cv =  0.8857717709657177 ------> f1_score =  0.7770961145194274\n",
      "k = 61 -------> auc_train =  0.9012431943178764 -------> auc_cv =  0.8858910548290168 ------> f1_score =  0.7756232686980609\n",
      "k = 63 -------> auc_train =  0.9008668285574266 -------> auc_cv =  0.8859831343673832 ------> f1_score =  0.7759431119681812\n",
      "k = 65 -------> auc_train =  0.9006979192381723 -------> auc_cv =  0.8859567603752597 ------> f1_score =  0.7745748401881559\n",
      "k = 67 -------> auc_train =  0.9005386354958185 -------> auc_cv =  0.8859261691665001 ------> f1_score =  0.7746138996138996\n",
      "k = 69 -------> auc_train =  0.900261336585663 -------> auc_cv =  0.8858934802748543 ------> f1_score =  0.7758204633204635\n",
      "k = 71 -------> auc_train =  0.9002050973057283 -------> auc_cv =  0.8857463584115838 ------> f1_score =  0.7755249818971759\n",
      "k = 73 -------> auc_train =  0.8999094856268789 -------> auc_cv =  0.8859034442685644 ------> f1_score =  0.775431398576083\n",
      "k = 75 -------> auc_train =  0.8996718813573554 -------> auc_cv =  0.8858722849373564 ------> f1_score =  0.7760869565217392\n",
      "====================================================================================================\n",
      "BEST K ------>  53\n"
     ]
    },
    {
     "data": {
      "image/png": "[encoded data removed]",
      "text/plain": [
       "<Figure size 432x288 with 1 Axes>"
      ]
     },
     "metadata": {
      "needs_background": "light"
     },
     "output_type": "display_data"
    },
    {
     "data": {
      "image/png": "[encoded data removed]",
      "text/plain": [
       "<Figure size 432x288 with 1 Axes>"
      ]
     },
     "metadata": {
      "needs_background": "light"
     },
     "output_type": "display_data"
    },
    {
     "name": "stderr",
     "output_type": "stream",
     "text": [
      "100%|██████████████████████████████████████████████████████████████████████████| 48000/48000 [00:08<00:00, 5715.50it/s]\n",
      "100%|██████████████████████████████████████████████████████████████████████████| 12000/12000 [00:10<00:00, 1199.57it/s]\n"
     ]
    },
    {
     "name": "stdout",
     "output_type": "stream",
     "text": [
      "Using the best_k = 53\n",
      "TEST roc_auc_score =  0.8903337048689836\n",
      "TEST f1_score =  0.7862389586238958\n",
      "TEST accuracy_score =  0.8084166666666667\n",
      "\n",
      "\n",
      "\n",
      "AxesSubplot(0.125,0.125;0.62x0.755)\n"
     ]
    },
    {
     "data": {
      "image/png": "[encoded data removed]",
      "text/plain": [
       "<Figure size 432x288 with 2 Axes>"
      ]
     },
     "metadata": {
      "needs_background": "light"
     },
     "output_type": "display_data"
    }
   ],
   "source": [
    "k = KNN_find_k (train_data = avg_w2v_train , train_target = y_train , cv_data = avg_w2v_cv , cv_target = y_cv , upper_bound = 76 , algo = \"brute\" , metr = \"euclidean\" \n",
    "                , plot_stuff = True)\n",
    "\n",
    "avg_w2v_train = convert_into_avg_w2v(w2v_model , X_Train , vocabulary)\n",
    "avg_w2v_test = convert_into_avg_w2v(w2v_model , X_Test , vocabulary)\n",
    "\n",
    "KNN = KNeighborsClassifier(n_neighbors = k , algorithm = 'brute')\n",
    "model = KNN.fit(avg_w2v_train , Y_Train)\n",
    "y_pred_proba = KNN.predict_proba(avg_w2v_test)[: , 1]\n",
    "\n",
    "y_pred = []\n",
    "\n",
    "for i in y_pred_proba:\n",
    "    if (i > 0.5):\n",
    "        y_pred.append(1)\n",
    "    else:\n",
    "        y_pred.append(0)\n",
    "\n",
    "print(\"Using the best_k =\" , k)\n",
    "print(\"TEST roc_auc_score = \" , roc_auc_score(Y_Test, y_pred_proba))\n",
    "print(\"TEST f1_score = \" , f1_score(Y_Test, y_pred))\n",
    "print(\"TEST accuracy_score = \" , accuracy_score(Y_Test, y_pred))\n",
    "\n",
    "print(\"\\n\\n\")\n",
    "print(skplt.plot_confusion_matrix(Y_Test , y_pred))"
   ]
  },
  {
   "cell_type": "code",
   "execution_count": 38,
   "metadata": {
    "colab": {},
    "colab_type": "code",
    "id": "bT4Dm8fiDYNL"
   },
   "outputs": [],
   "source": [
    "# Please write all the code with proper documentation\n",
    "\n",
    "del avg_w2v_train , avg_w2v_test , avg_w2v_cv;"
   ]
  },
  {
   "cell_type": "markdown",
   "metadata": {
    "colab_type": "text",
    "id": "L-xcoDmADYNP"
   },
   "source": [
    "### [4] Applying KNN brute force on <font color='red'>TFIDF W2V</font>"
   ]
  },
  {
   "cell_type": "markdown",
   "metadata": {
    "heading_collapsed": true
   },
   "source": [
    "#### <font color = 'green'>Function to convert review text into Vectors using TF-IDF weighted W2V"
   ]
  },
  {
   "cell_type": "code",
   "execution_count": 39,
   "metadata": {
    "hidden": true
   },
   "outputs": [],
   "source": [
    "def convert_into_tfidf_avg_w2v(w2v_new , x , vocabulary, tfidf , tfidf_feats):\n",
    "    \n",
    "    tfidf_w2v = []\n",
    "    \n",
    "    row = 0\n",
    "    for review in tqdm(x.Unstemmed_CleanedText):\n",
    "        review_vec = np.zeros(150)\n",
    "        weighted_sum = 0\n",
    "\n",
    "        for word in review.split():\n",
    "            if word in vocabulary and word in tfidf_feats:\n",
    "\n",
    "                vec = w2v_new[word]\n",
    "                tfidf_val = tfidf[row , np.where(tfidf_feats == word)[0][0]]\n",
    "\n",
    "                review_vec += (vec * tfidf_val)\n",
    "                weighted_sum += tfidf_val\n",
    "\n",
    "        if weighted_sum > 0:\n",
    "            review_vec /= weighted_sum\n",
    "\n",
    "        tfidf_w2v.append(review_vec)\n",
    "        row += 1\n",
    "        \n",
    "    return Normalizer().fit_transform(tfidf_w2v)\n",
    "\n"
   ]
  },
  {
   "cell_type": "markdown",
   "metadata": {},
   "source": [
    "#### <u><font color = 'DarkOrange'> UNI-GRAM"
   ]
  },
  {
   "cell_type": "code",
   "execution_count": 42,
   "metadata": {},
   "outputs": [
    {
     "name": "stderr",
     "output_type": "stream",
     "text": [
      "100%|███████████████████████████████████████████████████████████████████████████| 38400/38400 [05:35<00:00, 114.50it/s]\n",
      "100%|█████████████████████████████████████████████████████████████████████████████| 9600/9600 [01:26<00:00, 110.47it/s]"
     ]
    },
    {
     "name": "stdout",
     "output_type": "stream",
     "text": [
      "Shape of tfidf_avg_w2v_train ::  (38400, 150)\n",
      "Shape of tfidf_avg_w2v_cv ::  (9600, 150)\n"
     ]
    },
    {
     "name": "stderr",
     "output_type": "stream",
     "text": [
      "\n"
     ]
    }
   ],
   "source": [
    "from sklearn.feature_extraction.text import TfidfVectorizer\n",
    "from sklearn.preprocessing import Normalizer\n",
    "\n",
    "w2v_model = KeyedVectors.load_word2vec_format(\"w2v_own_model.bin\" , binary = True)\n",
    "vocabulary = w2v_model.key_to_index\n",
    "\n",
    "cv = TfidfVectorizer(min_df = 10 , max_features = 5000)\n",
    "\n",
    "tfidf_train = cv.fit(x_train.Unstemmed_CleanedText)\n",
    "tfidf_train = cv.transform(x_train.Unstemmed_CleanedText)\n",
    "tfidf_cv = cv.transform(x_cv.Unstemmed_CleanedText)\n",
    "\n",
    "tfidf_train = Normalizer().fit_transform(tfidf_train)\n",
    "tfidf_cv = Normalizer().fit_transform(tfidf_cv)\n",
    "\n",
    "tfidf_feats = cv.get_feature_names_out()\n",
    "\n",
    "tfidf_avg_w2v_train = convert_into_tfidf_avg_w2v(w2v_model , x_train , vocabulary, tfidf_train , tfidf_feats)\n",
    "tfidf_avg_w2v_cv = convert_into_tfidf_avg_w2v(w2v_model , x_cv , vocabulary, tfidf_cv , tfidf_feats)\n",
    "\n",
    "print (\"Shape of tfidf_avg_w2v_train :: \" , tfidf_avg_w2v_train.shape)\n",
    "print (\"Shape of tfidf_avg_w2v_cv :: \" , tfidf_avg_w2v_cv.shape)"
   ]
  },
  {
   "cell_type": "code",
   "execution_count": 43,
   "metadata": {},
   "outputs": [
    {
     "name": "stdout",
     "output_type": "stream",
     "text": [
      "k = 3 -------> auc_train =  0.9397730152079444 -------> auc_cv =  0.7888026211946121 ------> f1_score =  0.7058143567217663\n",
      "k = 5 -------> auc_train =  0.9208941667167954 -------> auc_cv =  0.8160695488509047 ------> f1_score =  0.7230111996305277\n",
      "k = 7 -------> auc_train =  0.9115619797903951 -------> auc_cv =  0.8271005639227125 ------> f1_score =  0.7289568137084635\n",
      "k = 9 -------> auc_train =  0.9051114974789191 -------> auc_cv =  0.8347976179587177 ------> f1_score =  0.7351888208800093\n",
      "k = 11 -------> auc_train =  0.9006011800175067 -------> auc_cv =  0.8425487091799104 ------> f1_score =  0.7395700174317257\n",
      "k = 13 -------> auc_train =  0.8976986625369539 -------> auc_cv =  0.8451467986890007 ------> f1_score =  0.7398629022888347\n",
      "k = 15 -------> auc_train =  0.8953800405906015 -------> auc_cv =  0.8492222250725459 ------> f1_score =  0.7443643969323728\n",
      "k = 17 -------> auc_train =  0.8928803605649849 -------> auc_cv =  0.8510195896923535 ------> f1_score =  0.7453300846966006\n",
      "k = 19 -------> auc_train =  0.8912410384493886 -------> auc_cv =  0.8517406681845442 ------> f1_score =  0.7454439930354034\n",
      "k = 21 -------> auc_train =  0.8892632730105527 -------> auc_cv =  0.8522307830506 ------> f1_score =  0.7495646116335771\n",
      "k = 23 -------> auc_train =  0.8880307958382438 -------> auc_cv =  0.8524890821068479 ------> f1_score =  0.7455813953488372\n",
      "k = 25 -------> auc_train =  0.8868406369824376 -------> auc_cv =  0.8525428789325382 ------> f1_score =  0.7460428305400373\n",
      "k = 27 -------> auc_train =  0.8858268727985771 -------> auc_cv =  0.8533826731655796 ------> f1_score =  0.7475524475524474\n",
      "k = 29 -------> auc_train =  0.8848369973736406 -------> auc_cv =  0.8533054959160518 ------> f1_score =  0.7460595446584938\n",
      "k = 31 -------> auc_train =  0.8837167366652163 -------> auc_cv =  0.8533076810023916 ------> f1_score =  0.7461887582916327\n",
      "k = 33 -------> auc_train =  0.8829608477704041 -------> auc_cv =  0.8536355095059777 ------> f1_score =  0.7451939881160433\n",
      "k = 35 -------> auc_train =  0.8824460382934348 -------> auc_cv =  0.8534614455281356 ------> f1_score =  0.7457863535975823\n",
      "k = 37 -------> auc_train =  0.8818931868743504 -------> auc_cv =  0.8532608764529898 ------> f1_score =  0.7434348129212177\n",
      "k = 39 -------> auc_train =  0.8813176811276908 -------> auc_cv =  0.8535997396425923 ------> f1_score =  0.7422800092872068\n",
      "k = 41 -------> auc_train =  0.8808329434304737 -------> auc_cv =  0.8534955547259025 ------> f1_score =  0.7429168601950766\n",
      "k = 43 -------> auc_train =  0.8803127467267037 -------> auc_cv =  0.8530933895850308 ------> f1_score =  0.7433813283790061\n",
      "k = 45 -------> auc_train =  0.8799115470321712 -------> auc_cv =  0.8530245375144583 ------> f1_score =  0.7412733387452163\n",
      "k = 47 -------> auc_train =  0.8791846665950579 -------> auc_cv =  0.8531192391564325 ------> f1_score =  0.7451025849078473\n",
      "k = 49 -------> auc_train =  0.878768824833632 -------> auc_cv =  0.853179613092006 ------> f1_score =  0.7429830665738807\n",
      "k = 51 -------> auc_train =  0.8783605729916895 -------> auc_cv =  0.8528587550138444 ------> f1_score =  0.7445255474452556\n",
      "k = 53 -------> auc_train =  0.8782044751414643 -------> auc_cv =  0.8527873682431176 ------> f1_score =  0.7425731129349208\n",
      "k = 55 -------> auc_train =  0.8778449378444667 -------> auc_cv =  0.8525696680910662 ------> f1_score =  0.7439278278972935\n",
      "k = 57 -------> auc_train =  0.8774743911580886 -------> auc_cv =  0.8528062910908217 ------> f1_score =  0.744121394648442\n",
      "k = 59 -------> auc_train =  0.8770633798392465 -------> auc_cv =  0.8533344483100562 ------> f1_score =  0.747484094852516\n",
      "k = 61 -------> auc_train =  0.8768011928675431 -------> auc_cv =  0.8533666346318441 ------> f1_score =  0.7493361043759382\n",
      "k = 63 -------> auc_train =  0.8765421632697525 -------> auc_cv =  0.8534825971639066 ------> f1_score =  0.7481233398775841\n",
      "k = 65 -------> auc_train =  0.8763977089997113 -------> auc_cv =  0.8535748515091801 ------> f1_score =  0.7490177952391958\n",
      "k = 67 -------> auc_train =  0.8761786877429284 -------> auc_cv =  0.853645582754005 ------> f1_score =  0.7491035280508965\n",
      "k = 69 -------> auc_train =  0.8759514912642294 -------> auc_cv =  0.8537962881588731 ------> f1_score =  0.7477435778754918\n",
      "k = 71 -------> auc_train =  0.87561867146158 -------> auc_cv =  0.8540135949953831 ------> f1_score =  0.7499999999999999\n",
      "k = 73 -------> auc_train =  0.8753300616837605 -------> auc_cv =  0.8539666156390737 ------> f1_score =  0.7494492753623188\n",
      "k = 75 -------> auc_train =  0.8749448770045195 -------> auc_cv =  0.8538112122985748 ------> f1_score =  0.7482614742698191\n",
      "====================================================================================================\n",
      "BEST K ------>  71\n"
     ]
    },
    {
     "data": {
      "image/png": "[encoded data removed]",
      "text/plain": [
       "<Figure size 432x288 with 1 Axes>"
      ]
     },
     "metadata": {
      "needs_background": "light"
     },
     "output_type": "display_data"
    },
    {
     "data": {
      "image/png": "[encoded data removed]",
      "text/plain": [
       "<Figure size 432x288 with 1 Axes>"
      ]
     },
     "metadata": {
      "needs_background": "light"
     },
     "output_type": "display_data"
    },
    {
     "name": "stderr",
     "output_type": "stream",
     "text": [
      "100%|███████████████████████████████████████████████████████████████████████████| 48000/48000 [07:01<00:00, 113.81it/s]\n",
      "100%|███████████████████████████████████████████████████████████████████████████| 12000/12000 [01:45<00:00, 113.63it/s]\n"
     ]
    },
    {
     "name": "stdout",
     "output_type": "stream",
     "text": [
      "Using the best_k = 71\n",
      "TEST roc_auc_score =  0.8639921420641787\n",
      "TEST f1_score =  0.7614795918367347\n",
      "TEST accuracy_score =  0.7818333333333334\n",
      "\n",
      "\n",
      "\n",
      "AxesSubplot(0.125,0.125;0.62x0.755)\n"
     ]
    },
    {
     "data": {
      "image/png": "[encoded data removed]",
      "text/plain": [
       "<Figure size 432x288 with 2 Axes>"
      ]
     },
     "metadata": {
      "needs_background": "light"
     },
     "output_type": "display_data"
    }
   ],
   "source": [
    "k = KNN_find_k (train_data = tfidf_avg_w2v_train , train_target = y_train , cv_data = tfidf_avg_w2v_cv , cv_target = y_cv , upper_bound = 76 , algo = \"brute\" , metr = \"euclidean\" \n",
    "                , plot_stuff = True)\n",
    "\n",
    "cv = TfidfVectorizer(min_df = 10 , max_features = 5000)\n",
    "\n",
    "tfidf_train = cv.fit(X_Train.Unstemmed_CleanedText)\n",
    "tfidf_train = cv.transform(X_Train.Unstemmed_CleanedText)\n",
    "tfidf_test = cv.transform(X_Test.Unstemmed_CleanedText)\n",
    "\n",
    "tfidf_train = Normalizer().fit_transform(tfidf_train)\n",
    "tfidf_test = Normalizer().fit_transform(tfidf_test)\n",
    "\n",
    "tfidf_feats = cv.get_feature_names_out()\n",
    "\n",
    "tfidf_avg_w2v_train = convert_into_tfidf_avg_w2v(w2v_model , X_Train , vocabulary , tfidf_train , tfidf_feats)\n",
    "tfidf_avg_w2v_test = convert_into_tfidf_avg_w2v(w2v_model , X_Test , vocabulary , tfidf_test , tfidf_feats)\n",
    "\n",
    "KNN = KNeighborsClassifier(n_neighbors = k , algorithm = 'brute')\n",
    "model = KNN.fit(tfidf_avg_w2v_train , Y_Train)\n",
    "y_pred_proba = KNN.predict_proba(tfidf_avg_w2v_test)[: , 1]\n",
    "\n",
    "y_pred = []\n",
    "\n",
    "for i in y_pred_proba:\n",
    "    if (i > 0.5):\n",
    "        y_pred.append(1)\n",
    "    else:\n",
    "        y_pred.append(0)\n",
    "\n",
    "print(\"Using the best_k =\" , k)\n",
    "print(\"TEST roc_auc_score = \" , roc_auc_score(Y_Test, y_pred_proba))\n",
    "print(\"TEST f1_score = \" , f1_score(Y_Test, y_pred))\n",
    "print(\"TEST accuracy_score = \" , accuracy_score(Y_Test, y_pred))\n",
    "\n",
    "print(\"\\n\\n\")\n",
    "print(skplt.plot_confusion_matrix(Y_Test , y_pred))"
   ]
  },
  {
   "cell_type": "markdown",
   "metadata": {},
   "source": [
    "#### <u><font color = 'DarkOrange'> UNI+BI-GRAM"
   ]
  },
  {
   "cell_type": "code",
   "execution_count": 45,
   "metadata": {},
   "outputs": [
    {
     "name": "stderr",
     "output_type": "stream",
     "text": [
      "100%|███████████████████████████████████████████████████████████████████████████| 38400/38400 [05:57<00:00, 107.27it/s]\n",
      "100%|█████████████████████████████████████████████████████████████████████████████| 9600/9600 [01:32<00:00, 103.32it/s]"
     ]
    },
    {
     "name": "stdout",
     "output_type": "stream",
     "text": [
      "Shape of tfidf_avg_w2v_train ::  (38400, 150)\n",
      "Shape of tfidf_avg_w2v_cv ::  (9600, 150)\n"
     ]
    },
    {
     "name": "stderr",
     "output_type": "stream",
     "text": [
      "\n"
     ]
    }
   ],
   "source": [
    "from sklearn.feature_extraction.text import TfidfVectorizer\n",
    "from sklearn.preprocessing import Normalizer\n",
    "\n",
    "w2v_model = KeyedVectors.load_word2vec_format(\"w2v_own_model.bin\" , binary = True)\n",
    "vocabulary = w2v_model.key_to_index\n",
    "\n",
    "cv = TfidfVectorizer(ngram_range = (1,2) , max_features = 5000)\n",
    "\n",
    "tfidf_train = cv.fit(x_train.Unstemmed_CleanedText)\n",
    "tfidf_train = cv.transform(x_train.Unstemmed_CleanedText)\n",
    "tfidf_cv = cv.transform(x_cv.Unstemmed_CleanedText)\n",
    "\n",
    "tfidf_train = Normalizer().fit_transform(tfidf_train)\n",
    "tfidf_cv = Normalizer().fit_transform(tfidf_cv)\n",
    "\n",
    "tfidf_feats = cv.get_feature_names_out()\n",
    "\n",
    "tfidf_avg_w2v_train = convert_into_tfidf_avg_w2v(w2v_model , x_train , vocabulary, tfidf_train , tfidf_feats)\n",
    "tfidf_avg_w2v_cv = convert_into_tfidf_avg_w2v(w2v_model , x_cv , vocabulary, tfidf_cv , tfidf_feats)\n",
    "\n",
    "print (\"Shape of tfidf_avg_w2v_train :: \" , tfidf_avg_w2v_train.shape)\n",
    "print (\"Shape of tfidf_avg_w2v_cv :: \" , tfidf_avg_w2v_cv.shape)"
   ]
  },
  {
   "cell_type": "code",
   "execution_count": 46,
   "metadata": {},
   "outputs": [
    {
     "name": "stdout",
     "output_type": "stream",
     "text": [
      "k = 3 -------> auc_train =  0.9393717503289183 -------> auc_cv =  0.7897310206787393 ------> f1_score =  0.7066173068024063\n",
      "k = 5 -------> auc_train =  0.920388075665856 -------> auc_cv =  0.816784050233212 ------> f1_score =  0.7212810396843815\n",
      "k = 7 -------> auc_train =  0.9110206334344456 -------> auc_cv =  0.8259504437276682 ------> f1_score =  0.7272727272727273\n",
      "k = 9 -------> auc_train =  0.9054030799412527 -------> auc_cv =  0.8349043594264254 ------> f1_score =  0.7353928034247368\n",
      "k = 11 -------> auc_train =  0.900149708140232 -------> auc_cv =  0.8402770715700121 ------> f1_score =  0.7393276724438756\n",
      "k = 13 -------> auc_train =  0.8968104667741 -------> auc_cv =  0.8448958196719915 ------> f1_score =  0.7405342624854819\n",
      "k = 15 -------> auc_train =  0.8945257842207918 -------> auc_cv =  0.8480796215745111 ------> f1_score =  0.7451939881160433\n",
      "k = 17 -------> auc_train =  0.892352685298575 -------> auc_cv =  0.8502793698438245 ------> f1_score =  0.745817843866171\n",
      "k = 19 -------> auc_train =  0.8907824519562307 -------> auc_cv =  0.8506454155074966 ------> f1_score =  0.7452709759777184\n",
      "k = 21 -------> auc_train =  0.8891394279045973 -------> auc_cv =  0.8510968106436081 ------> f1_score =  0.7464837847262583\n",
      "k = 23 -------> auc_train =  0.8875920104930521 -------> auc_cv =  0.8507580785591855 ------> f1_score =  0.7445170321978535\n",
      "k = 25 -------> auc_train =  0.8862057712482083 -------> auc_cv =  0.8520758604290959 ------> f1_score =  0.7491248541423571\n",
      "k = 27 -------> auc_train =  0.8848400393166792 -------> auc_cv =  0.8526799275477812 ------> f1_score =  0.7468221574344024\n",
      "k = 29 -------> auc_train =  0.8840323980079139 -------> auc_cv =  0.8526867450171617 ------> f1_score =  0.7462023837345175\n",
      "k = 31 -------> auc_train =  0.8832081074930542 -------> auc_cv =  0.8526466049810966 ------> f1_score =  0.748313561293324\n",
      "k = 33 -------> auc_train =  0.8823321188846529 -------> auc_cv =  0.8526380175917805 ------> f1_score =  0.7445917655268667\n",
      "k = 35 -------> auc_train =  0.8818004388459124 -------> auc_cv =  0.852474157967146 ------> f1_score =  0.7431566686080372\n",
      "k = 37 -------> auc_train =  0.8812928404035569 -------> auc_cv =  0.8522513884147858 ------> f1_score =  0.7427708744628962\n",
      "k = 39 -------> auc_train =  0.8807534047680783 -------> auc_cv =  0.8528423450154312 ------> f1_score =  0.7429499825925496\n",
      "k = 41 -------> auc_train =  0.8801276960972012 -------> auc_cv =  0.852771591919743 ------> f1_score =  0.742671009771987\n",
      "k = 43 -------> auc_train =  0.8797018634541084 -------> auc_cv =  0.8532104883619899 ------> f1_score =  0.7437862950058073\n",
      "k = 45 -------> auc_train =  0.8793267334830177 -------> auc_cv =  0.8530830978283693 ------> f1_score =  0.7456211576383249\n",
      "k = 47 -------> auc_train =  0.8789035503179912 -------> auc_cv =  0.852717139568151 ------> f1_score =  0.7442832269297737\n",
      "k = 49 -------> auc_train =  0.8785734411038708 -------> auc_cv =  0.8528902202571401 ------> f1_score =  0.7444714599976845\n",
      "k = 51 -------> auc_train =  0.8780007763147276 -------> auc_cv =  0.8531667866351903 ------> f1_score =  0.7435599907171037\n",
      "k = 53 -------> auc_train =  0.8776837705418475 -------> auc_cv =  0.8529969835757113 ------> f1_score =  0.7469628601180145\n",
      "k = 55 -------> auc_train =  0.877306957996014 -------> auc_cv =  0.852922909148786 ------> f1_score =  0.7455703532136653\n",
      "k = 57 -------> auc_train =  0.876997331651023 -------> auc_cv =  0.852861355266589 ------> f1_score =  0.7441537392915027\n",
      "k = 59 -------> auc_train =  0.8767647289333792 -------> auc_cv =  0.8533555343932371 ------> f1_score =  0.7459471977767484\n",
      "k = 61 -------> auc_train =  0.8763313158768752 -------> auc_cv =  0.853314913638177 ------> f1_score =  0.745664739884393\n",
      "k = 63 -------> auc_train =  0.8761076515829277 -------> auc_cv =  0.8533544199992037 ------> f1_score =  0.7476267654549664\n",
      "k = 65 -------> auc_train =  0.8758233018833723 -------> auc_cv =  0.8534439648374158 ------> f1_score =  0.7486395739261317\n",
      "k = 67 -------> auc_train =  0.8754777195000641 -------> auc_cv =  0.853656617440022 ------> f1_score =  0.7488721804511279\n",
      "k = 69 -------> auc_train =  0.8753156762808109 -------> auc_cv =  0.8537073551448361 ------> f1_score =  0.7476548928778228\n",
      "k = 71 -------> auc_train =  0.8751049796270753 -------> auc_cv =  0.8537787200646996 ------> f1_score =  0.7461440333990491\n",
      "k = 73 -------> auc_train =  0.8748157302264115 -------> auc_cv =  0.8536333244196378 ------> f1_score =  0.7477133263864767\n",
      "k = 75 -------> auc_train =  0.8744604720198222 -------> auc_cv =  0.8536481830067496 ------> f1_score =  0.7487536231884058\n",
      "====================================================================================================\n",
      "BEST K ------>  25\n"
     ]
    },
    {
     "data": {
      "image/png": "[encoded data removed]",
      "text/plain": [
       "<Figure size 432x288 with 1 Axes>"
      ]
     },
     "metadata": {
      "needs_background": "light"
     },
     "output_type": "display_data"
    },
    {
     "data": {
      "image/png": "[encoded data removed]",
      "text/plain": [
       "<Figure size 432x288 with 1 Axes>"
      ]
     },
     "metadata": {
      "needs_background": "light"
     },
     "output_type": "display_data"
    },
    {
     "name": "stderr",
     "output_type": "stream",
     "text": [
      "100%|███████████████████████████████████████████████████████████████████████████| 48000/48000 [07:20<00:00, 109.03it/s]\n",
      "100%|███████████████████████████████████████████████████████████████████████████| 12000/12000 [01:47<00:00, 112.11it/s]\n"
     ]
    },
    {
     "name": "stdout",
     "output_type": "stream",
     "text": [
      "Using the best_k = 25\n",
      "TEST roc_auc_score =  0.861819701774738\n",
      "TEST f1_score =  0.7612620828013861\n",
      "TEST accuracy_score =  0.7818333333333334\n",
      "\n",
      "\n",
      "\n",
      "AxesSubplot(0.125,0.125;0.62x0.755)\n"
     ]
    },
    {
     "data": {
      "image/png": "[encoded data removed]",
      "text/plain": [
       "<Figure size 432x288 with 2 Axes>"
      ]
     },
     "metadata": {
      "needs_background": "light"
     },
     "output_type": "display_data"
    }
   ],
   "source": [
    "k = KNN_find_k (train_data = tfidf_avg_w2v_train , train_target = y_train , cv_data = tfidf_avg_w2v_cv , cv_target = y_cv , upper_bound = 76 , algo = \"brute\" , metr = \"euclidean\" \n",
    "                , plot_stuff = True)\n",
    "\n",
    "cv = TfidfVectorizer(ngram_range = (1,2) , max_features = 5000)\n",
    "\n",
    "tfidf_train = cv.fit(X_Train.Unstemmed_CleanedText)\n",
    "tfidf_train = cv.transform(X_Train.Unstemmed_CleanedText)\n",
    "tfidf_test = cv.transform(X_Test.Unstemmed_CleanedText)\n",
    "\n",
    "tfidf_train = Normalizer().fit_transform(tfidf_train)\n",
    "tfidf_test = Normalizer().fit_transform(tfidf_test)\n",
    "\n",
    "tfidf_feats = cv.get_feature_names_out()\n",
    "\n",
    "tfidf_avg_w2v_train = convert_into_tfidf_avg_w2v(w2v_model , X_Train , vocabulary , tfidf_train , tfidf_feats)\n",
    "tfidf_avg_w2v_test = convert_into_tfidf_avg_w2v(w2v_model , X_Test , vocabulary , tfidf_test , tfidf_feats)\n",
    "\n",
    "KNN = KNeighborsClassifier(n_neighbors = k , algorithm = 'brute')\n",
    "model = KNN.fit(tfidf_avg_w2v_train , Y_Train)\n",
    "y_pred_proba = KNN.predict_proba(tfidf_avg_w2v_test)[: , 1]\n",
    "\n",
    "y_pred = []\n",
    "\n",
    "for i in y_pred_proba:\n",
    "    if (i > 0.5):\n",
    "        y_pred.append(1)\n",
    "    else:\n",
    "        y_pred.append(0)\n",
    "\n",
    "print(\"Using the best_k =\" , k)\n",
    "print(\"TEST roc_auc_score = \" , roc_auc_score(Y_Test, y_pred_proba))\n",
    "print(\"TEST f1_score = \" , f1_score(Y_Test, y_pred))\n",
    "print(\"TEST accuracy_score = \" , accuracy_score(Y_Test, y_pred))\n",
    "\n",
    "print(\"\\n\\n\")\n",
    "print(skplt.plot_confusion_matrix(Y_Test , y_pred))"
   ]
  },
  {
   "cell_type": "markdown",
   "metadata": {
    "colab_type": "text",
    "id": "crZ4qBCyDYN7"
   },
   "source": [
    "## [5] Conclusions"
   ]
  },
  {
   "cell_type": "markdown",
   "metadata": {},
   "source": [
    "The F1 Scores for various representations when KNN was used - \n",
    "1. BoW \n",
    "    - Uni-gram - 0.728 (k=31)\n",
    "    - Uni+Bi-gram - 0.765 (k=21)\n",
    "2. TF-IDF Weighted BoW\n",
    "    - Uni-gram - 0.781 (k=71)\n",
    "    - Uni+Bi-gram - 0.781 (k=69)\n",
    "3. Word2Vec\n",
    "    - Uni-gram Average Word2Vec - 0.786 (k=53)\n",
    "    - TF-IDF Weighted Average Word2Vec\n",
    "      - Uni-gram - 0.761 (k=71)\n",
    "      - Uni+Bi-gram - 0.761 (k=25)"
   ]
  }
 ],
 "metadata": {
  "kernelspec": {
   "display_name": "Python 3",
   "language": "python",
   "name": "python3"
  },
  "language_info": {
   "codemirror_mode": {
    "name": "ipython",
    "version": 3
   },
   "file_extension": ".py",
   "mimetype": "text/x-python",
   "name": "python",
   "nbconvert_exporter": "python",
   "pygments_lexer": "ipython3",
   "version": "3.8.5"
  },
  "latex_envs": {
   "LaTeX_envs_menu_present": true,
   "autoclose": false,
   "autocomplete": true,
   "bibliofile": "biblio.bib",
   "cite_by": "apalike",
   "current_citInitial": 1,
   "eqLabelWithNumbers": true,
   "eqNumInitial": 1,
   "hotkeys": {
    "equation": "Ctrl-E",
    "itemize": "Ctrl-I"
   },
   "labels_anchors": false,
   "latex_user_defs": false,
   "report_style_numbering": false,
   "user_envs_cfg": false
  },
  "toc": {
   "base_numbering": 1,
   "nav_menu": {},
   "number_sections": false,
   "sideBar": true,
   "skip_h1_title": false,
   "title_cell": "Table of Contents",
   "title_sidebar": "Contents",
   "toc_cell": false,
   "toc_position": {
    "height": "calc(100% - 180px)",
    "left": "10px",
    "top": "150px",
    "width": "314.025px"
   },
   "toc_section_display": true,
   "toc_window_display": true
  },
  "varInspector": {
   "cols": {
    "lenName": 16,
    "lenType": 16,
    "lenVar": 40
   },
   "kernels_config": {
    "python": {
     "delete_cmd_postfix": "",
     "delete_cmd_prefix": "del ",
     "library": "var_list.py",
     "varRefreshCmd": "print(var_dic_list())"
    },
    "r": {
     "delete_cmd_postfix": ") ",
     "delete_cmd_prefix": "rm(",
     "library": "var_list.r",
     "varRefreshCmd": "cat(var_dic_list()) "
    }
   },
   "types_to_exclude": [
    "module",
    "function",
    "builtin_function_or_method",
    "instance",
    "_Feature"
   ],
   "window_display": false
  }
 },
 "nbformat": 4,
 "nbformat_minor": 4
}
